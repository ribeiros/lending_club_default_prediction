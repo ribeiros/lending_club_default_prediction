{
 "cells": [
  {
   "cell_type": "markdown",
   "metadata": {},
   "source": [
    "# Lending Club - Loan Repayment Prediction\n",
    "## Interim Results Report\n",
    "\n",
    "This report consists of two main parts:\n",
    "\n",
    "Part 1:\n",
    "    Cleaning and preparing the data set\n",
    "    \n",
    "Part 2:\n",
    "    Creating models, making predictions and measuring results.\n",
    "   \n",
    "    \n",
    "Part 2 consists of 3 sub-sections:\n",
    "    1. Random Forest model, predictions and performance measurements\n",
    "    2. Bagged Decision Trees model, predictions and performance measurements\n",
    "    3. Bagged Neural Networks model, predictions and performance measurements"
   ]
  },
  {
   "cell_type": "markdown",
   "metadata": {},
   "source": [
    "#### Loading Raw Data"
   ]
  },
  {
   "cell_type": "code",
   "execution_count": 50,
   "metadata": {
    "collapsed": true
   },
   "outputs": [],
   "source": [
    "lending_club_2012_2013 <- read.csv(\"lending_club_rfe/LoanStats3b_securev1.csv\", header=TRUE)\n",
    "lending_club_2007_2011 <- read.csv(\"lending_club_rfe/LoanStats3a_securev1.csv\", header=TRUE)"
   ]
  },
  {
   "cell_type": "markdown",
   "metadata": {},
   "source": [
    "#### Pruning data set to include only 36 month term loans issued up to February 2013\n",
    "The reason for this is because all 36 month loans issued February 2013 or earlier have fully come to term."
   ]
  },
  {
   "cell_type": "code",
   "execution_count": 51,
   "metadata": {
    "collapsed": true
   },
   "outputs": [],
   "source": [
    "lending_club_jan_2013 <- subset(lending_club_2012_2013,issue_d == \"Jan-2013\")\n",
    "lending_club_feb_2013 <- subset(lending_club_2012_2013,issue_d == \"Feb-2013\")\n",
    "lending_club_2012 <- subset(lending_club_2012_2013,grepl(\"2012\",issue_d))\n",
    "lending_club_final <- rbind(lending_club_jan_2013,lending_club_feb_2013,lending_club_2012,lending_club_2007_2011)\n",
    "lending_club_final <- subset(lending_club_final,grepl(\"36\",term))"
   ]
  },
  {
   "cell_type": "markdown",
   "metadata": {},
   "source": [
    "#### Adding label (default_status) to the data set\n",
    "default_status:\n",
    "\n",
    "1 = true (default has occured)\n",
    "\n",
    "0 = false (default has not occured)"
   ]
  },
  {
   "cell_type": "code",
   "execution_count": 52,
   "metadata": {
    "collapsed": true
   },
   "outputs": [],
   "source": [
    "status <- c(\"Current\",\"Fully Paid\",\"Late (16-30 days)\",\"Does not meet the credit policy. Status:Charged Off\",\"Charged Off\",\"Default\",\"In Grace Period\",\"Late (31-120 days)\",\"Does not meet the credit policy. Status:Fully Paid\")\n",
    "default_status <- c(0,0,1,1,1,1,1,1,0)\n",
    "lending_club_default <- data.frame(default = default_status[match(lending_club_final$loan_status, status)])\n",
    "lending_club_final <- cbind(lending_club_final,lending_club_default)"
   ]
  },
  {
   "cell_type": "markdown",
   "metadata": {},
   "source": [
    "#### Eliminate features which are mostly NA"
   ]
  },
  {
   "cell_type": "code",
   "execution_count": 53,
   "metadata": {
    "collapsed": true
   },
   "outputs": [],
   "source": [
    "na_pct <-sapply(lending_club_final, function(y) sum(is.na(y))/length(y))\n",
    "na_pct <- data.frame(na_pct)\n",
    "mostly_na <- na_pct > 0.2\n",
    "\n",
    "lending_club_final <- lending_club_final[,mostly_na==FALSE] "
   ]
  },
  {
   "cell_type": "markdown",
   "metadata": {},
   "source": [
    "#### Cleaning data - Little touch-ups"
   ]
  },
  {
   "cell_type": "code",
   "execution_count": 54,
   "metadata": {
    "collapsed": false
   },
   "outputs": [],
   "source": [
    "# convert issue_d to dates because as factors they have too many levels!\n",
    "lending_club_final$issue_d <- as.vector(sapply(lending_club_final$issue_d, function(x) paste0(x,\"-01\")))\n",
    "lending_club_final$issue_d <- as.Date(lending_club_final$issue_d,\"%b-%Y-%d\")\n",
    "\n",
    "# convert int_rate to numeric\n",
    "lending_club_final$int_rate <- as.character(lending_club_final$int_rate)\n",
    "lending_club_final$int_rate <- as.numeric(substr(lending_club_final$int_rate,1,nchar(lending_club_final$int_rate)-1))\n",
    " \n",
    "# convert earliest_cr_line to date\n",
    "lending_club_final$earliest_cr_line <- as.character(lending_club_final$earliest_cr_line)\n",
    "lending_club_final$earliest_cr_line <- as.vector(sapply(lending_club_final$earliest_cr_line, function(x) paste0(x,\"-01\")))\n",
    "lending_club_final$earliest_cr_line <- as.Date(lending_club_final$earliest_cr_line,\"%b-%Y-%d\")\n",
    "\n",
    "# convert revol_util to numeric\n",
    "lending_club_final$revol_util <- as.character(lending_club_final$revol_util)\n",
    "lending_club_final$revol_util <- as.numeric(substr(lending_club_final$revol_util,1,nchar(lending_club_final$revol_util)-1))\n",
    "\n",
    "# convert last_credit_pull_d to dates because as factors they have too many levels!\n",
    "lending_club_final$last_credit_pull_d <- as.character(lending_club_final$last_credit_pull_d)\n",
    "lending_club_final$last_credit_pull_d <- as.vector(sapply(lending_club_final$last_credit_pull_d, function(x) paste0(x,\"-01\")))\n",
    "lending_club_final$last_credit_pull_d <- as.Date(lending_club_final$last_credit_pull_d,\"%b-%Y-%d\")\n",
    "    \n",
    "# convert zip_code to char because as a factor it has too many levels\n",
    "#lending_club_final$zip_code <- as.character(lending_club_final$zip_code)\n",
    "    \n",
    "# remove useless variables\n",
    "to_remove <- c(\"url\",\"desc\",\"title\",\"emp_title\",\"id\",\"loan_status\",\"zip_code\")\n",
    "lending_club_final <- lending_club_final[ , !(names(lending_club_final) %in% to_remove)]\n"
   ]
  },
  {
   "cell_type": "markdown",
   "metadata": {},
   "source": [
    "#### Remove incomplete records\n",
    "Incomplete records should be removed as long as they are a small portion of the data set < 3%"
   ]
  },
  {
   "cell_type": "code",
   "execution_count": 55,
   "metadata": {
    "collapsed": false
   },
   "outputs": [
    {
     "name": "stdout",
     "output_type": "stream",
     "text": [
      "[1] 0.01697246\n"
     ]
    }
   ],
   "source": [
    "nrows <- nrow(lending_club_final)\n",
    "ncomplete <- sum(complete.cases(lending_club_final))\n",
    "print(1-(ncomplete/nrows))"
   ]
  },
  {
   "cell_type": "markdown",
   "metadata": {},
   "source": [
    "Since incomplete rows represent < 3% of data set, remove them. "
   ]
  },
  {
   "cell_type": "code",
   "execution_count": 56,
   "metadata": {
    "collapsed": false
   },
   "outputs": [
    {
     "data": {
      "text/html": [
       "85083"
      ],
      "text/latex": [
       "85083"
      ],
      "text/markdown": [
       "85083"
      ],
      "text/plain": [
       "[1] 85083"
      ]
     },
     "metadata": {},
     "output_type": "display_data"
    }
   ],
   "source": [
    "lending_club_final <- lending_club_final[complete.cases(lending_club_final),]\n",
    "\n",
    "# how many records in data set so far\n",
    "lcf_before_na_rm <- nrow(lending_club_final)\n",
    "lcf_before_na_rm"
   ]
  },
  {
   "cell_type": "markdown",
   "metadata": {},
   "source": [
    "#### Check for records with NA's"
   ]
  },
  {
   "cell_type": "code",
   "execution_count": 57,
   "metadata": {
    "collapsed": false
   },
   "outputs": [
    {
     "data": {
      "text/html": [
       "<dl class=dl-horizontal>\n",
       "\t<dt>member_id</dt>\n",
       "\t\t<dd>0</dd>\n",
       "\t<dt>loan_amnt</dt>\n",
       "\t\t<dd>0</dd>\n",
       "\t<dt>funded_amnt</dt>\n",
       "\t\t<dd>0</dd>\n",
       "\t<dt>funded_amnt_inv</dt>\n",
       "\t\t<dd>0</dd>\n",
       "\t<dt>term</dt>\n",
       "\t\t<dd>0</dd>\n",
       "\t<dt>int_rate</dt>\n",
       "\t\t<dd>0</dd>\n",
       "\t<dt>installment</dt>\n",
       "\t\t<dd>0</dd>\n",
       "\t<dt>grade</dt>\n",
       "\t\t<dd>0</dd>\n",
       "\t<dt>sub_grade</dt>\n",
       "\t\t<dd>0</dd>\n",
       "\t<dt>emp_length</dt>\n",
       "\t\t<dd>0</dd>\n",
       "\t<dt>home_ownership</dt>\n",
       "\t\t<dd>0</dd>\n",
       "\t<dt>annual_inc</dt>\n",
       "\t\t<dd>0</dd>\n",
       "\t<dt>verification_status</dt>\n",
       "\t\t<dd>0</dd>\n",
       "\t<dt>issue_d</dt>\n",
       "\t\t<dd>0</dd>\n",
       "\t<dt>pymnt_plan</dt>\n",
       "\t\t<dd>0</dd>\n",
       "\t<dt>purpose</dt>\n",
       "\t\t<dd>0</dd>\n",
       "\t<dt>addr_state</dt>\n",
       "\t\t<dd>0</dd>\n",
       "\t<dt>dti</dt>\n",
       "\t\t<dd>0</dd>\n",
       "\t<dt>delinq_2yrs</dt>\n",
       "\t\t<dd>0</dd>\n",
       "\t<dt>earliest_cr_line</dt>\n",
       "\t\t<dd>0</dd>\n",
       "\t<dt>fico_range_low</dt>\n",
       "\t\t<dd>0</dd>\n",
       "\t<dt>fico_range_high</dt>\n",
       "\t\t<dd>0</dd>\n",
       "\t<dt>inq_last_6mths</dt>\n",
       "\t\t<dd>0</dd>\n",
       "\t<dt>open_acc</dt>\n",
       "\t\t<dd>0</dd>\n",
       "\t<dt>pub_rec</dt>\n",
       "\t\t<dd>0</dd>\n",
       "\t<dt>revol_bal</dt>\n",
       "\t\t<dd>0</dd>\n",
       "\t<dt>revol_util</dt>\n",
       "\t\t<dd>0</dd>\n",
       "\t<dt>total_acc</dt>\n",
       "\t\t<dd>0</dd>\n",
       "\t<dt>initial_list_status</dt>\n",
       "\t\t<dd>0</dd>\n",
       "\t<dt>out_prncp</dt>\n",
       "\t\t<dd>0</dd>\n",
       "\t<dt>out_prncp_inv</dt>\n",
       "\t\t<dd>0</dd>\n",
       "\t<dt>total_pymnt</dt>\n",
       "\t\t<dd>0</dd>\n",
       "\t<dt>total_pymnt_inv</dt>\n",
       "\t\t<dd>0</dd>\n",
       "\t<dt>total_rec_prncp</dt>\n",
       "\t\t<dd>0</dd>\n",
       "\t<dt>total_rec_int</dt>\n",
       "\t\t<dd>0</dd>\n",
       "\t<dt>total_rec_late_fee</dt>\n",
       "\t\t<dd>0</dd>\n",
       "\t<dt>recoveries</dt>\n",
       "\t\t<dd>0</dd>\n",
       "\t<dt>collection_recovery_fee</dt>\n",
       "\t\t<dd>0</dd>\n",
       "\t<dt>last_pymnt_d</dt>\n",
       "\t\t<dd>0</dd>\n",
       "\t<dt>last_pymnt_amnt</dt>\n",
       "\t\t<dd>0</dd>\n",
       "\t<dt>next_pymnt_d</dt>\n",
       "\t\t<dd>0</dd>\n",
       "\t<dt>last_credit_pull_d</dt>\n",
       "\t\t<dd>0</dd>\n",
       "\t<dt>last_fico_range_high</dt>\n",
       "\t\t<dd>0</dd>\n",
       "\t<dt>last_fico_range_low</dt>\n",
       "\t\t<dd>0</dd>\n",
       "\t<dt>collections_12_mths_ex_med</dt>\n",
       "\t\t<dd>0</dd>\n",
       "\t<dt>policy_code</dt>\n",
       "\t\t<dd>0</dd>\n",
       "\t<dt>application_type</dt>\n",
       "\t\t<dd>0</dd>\n",
       "\t<dt>acc_now_delinq</dt>\n",
       "\t\t<dd>0</dd>\n",
       "\t<dt>chargeoff_within_12_mths</dt>\n",
       "\t\t<dd>0</dd>\n",
       "\t<dt>delinq_amnt</dt>\n",
       "\t\t<dd>0</dd>\n",
       "\t<dt>pub_rec_bankruptcies</dt>\n",
       "\t\t<dd>0</dd>\n",
       "\t<dt>tax_liens</dt>\n",
       "\t\t<dd>0</dd>\n",
       "\t<dt>default</dt>\n",
       "\t\t<dd>0</dd>\n",
       "</dl>\n"
      ],
      "text/latex": [
       "\\begin{description*}\n",
       "\\item[member\\textbackslash{}\\_id] 0\n",
       "\\item[loan\\textbackslash{}\\_amnt] 0\n",
       "\\item[funded\\textbackslash{}\\_amnt] 0\n",
       "\\item[funded\\textbackslash{}\\_amnt\\textbackslash{}\\_inv] 0\n",
       "\\item[term] 0\n",
       "\\item[int\\textbackslash{}\\_rate] 0\n",
       "\\item[installment] 0\n",
       "\\item[grade] 0\n",
       "\\item[sub\\textbackslash{}\\_grade] 0\n",
       "\\item[emp\\textbackslash{}\\_length] 0\n",
       "\\item[home\\textbackslash{}\\_ownership] 0\n",
       "\\item[annual\\textbackslash{}\\_inc] 0\n",
       "\\item[verification\\textbackslash{}\\_status] 0\n",
       "\\item[issue\\textbackslash{}\\_d] 0\n",
       "\\item[pymnt\\textbackslash{}\\_plan] 0\n",
       "\\item[purpose] 0\n",
       "\\item[addr\\textbackslash{}\\_state] 0\n",
       "\\item[dti] 0\n",
       "\\item[delinq\\textbackslash{}\\_2yrs] 0\n",
       "\\item[earliest\\textbackslash{}\\_cr\\textbackslash{}\\_line] 0\n",
       "\\item[fico\\textbackslash{}\\_range\\textbackslash{}\\_low] 0\n",
       "\\item[fico\\textbackslash{}\\_range\\textbackslash{}\\_high] 0\n",
       "\\item[inq\\textbackslash{}\\_last\\textbackslash{}\\_6mths] 0\n",
       "\\item[open\\textbackslash{}\\_acc] 0\n",
       "\\item[pub\\textbackslash{}\\_rec] 0\n",
       "\\item[revol\\textbackslash{}\\_bal] 0\n",
       "\\item[revol\\textbackslash{}\\_util] 0\n",
       "\\item[total\\textbackslash{}\\_acc] 0\n",
       "\\item[initial\\textbackslash{}\\_list\\textbackslash{}\\_status] 0\n",
       "\\item[out\\textbackslash{}\\_prncp] 0\n",
       "\\item[out\\textbackslash{}\\_prncp\\textbackslash{}\\_inv] 0\n",
       "\\item[total\\textbackslash{}\\_pymnt] 0\n",
       "\\item[total\\textbackslash{}\\_pymnt\\textbackslash{}\\_inv] 0\n",
       "\\item[total\\textbackslash{}\\_rec\\textbackslash{}\\_prncp] 0\n",
       "\\item[total\\textbackslash{}\\_rec\\textbackslash{}\\_int] 0\n",
       "\\item[total\\textbackslash{}\\_rec\\textbackslash{}\\_late\\textbackslash{}\\_fee] 0\n",
       "\\item[recoveries] 0\n",
       "\\item[collection\\textbackslash{}\\_recovery\\textbackslash{}\\_fee] 0\n",
       "\\item[last\\textbackslash{}\\_pymnt\\textbackslash{}\\_d] 0\n",
       "\\item[last\\textbackslash{}\\_pymnt\\textbackslash{}\\_amnt] 0\n",
       "\\item[next\\textbackslash{}\\_pymnt\\textbackslash{}\\_d] 0\n",
       "\\item[last\\textbackslash{}\\_credit\\textbackslash{}\\_pull\\textbackslash{}\\_d] 0\n",
       "\\item[last\\textbackslash{}\\_fico\\textbackslash{}\\_range\\textbackslash{}\\_high] 0\n",
       "\\item[last\\textbackslash{}\\_fico\\textbackslash{}\\_range\\textbackslash{}\\_low] 0\n",
       "\\item[collections\\textbackslash{}\\_12\\textbackslash{}\\_mths\\textbackslash{}\\_ex\\textbackslash{}\\_med] 0\n",
       "\\item[policy\\textbackslash{}\\_code] 0\n",
       "\\item[application\\textbackslash{}\\_type] 0\n",
       "\\item[acc\\textbackslash{}\\_now\\textbackslash{}\\_delinq] 0\n",
       "\\item[chargeoff\\textbackslash{}\\_within\\textbackslash{}\\_12\\textbackslash{}\\_mths] 0\n",
       "\\item[delinq\\textbackslash{}\\_amnt] 0\n",
       "\\item[pub\\textbackslash{}\\_rec\\textbackslash{}\\_bankruptcies] 0\n",
       "\\item[tax\\textbackslash{}\\_liens] 0\n",
       "\\item[default] 0\n",
       "\\end{description*}\n"
      ],
      "text/markdown": [
       "member_id\n",
       ":   0loan_amnt\n",
       ":   0funded_amnt\n",
       ":   0funded_amnt_inv\n",
       ":   0term\n",
       ":   0int_rate\n",
       ":   0installment\n",
       ":   0grade\n",
       ":   0sub_grade\n",
       ":   0emp_length\n",
       ":   0home_ownership\n",
       ":   0annual_inc\n",
       ":   0verification_status\n",
       ":   0issue_d\n",
       ":   0pymnt_plan\n",
       ":   0purpose\n",
       ":   0addr_state\n",
       ":   0dti\n",
       ":   0delinq_2yrs\n",
       ":   0earliest_cr_line\n",
       ":   0fico_range_low\n",
       ":   0fico_range_high\n",
       ":   0inq_last_6mths\n",
       ":   0open_acc\n",
       ":   0pub_rec\n",
       ":   0revol_bal\n",
       ":   0revol_util\n",
       ":   0total_acc\n",
       ":   0initial_list_status\n",
       ":   0out_prncp\n",
       ":   0out_prncp_inv\n",
       ":   0total_pymnt\n",
       ":   0total_pymnt_inv\n",
       ":   0total_rec_prncp\n",
       ":   0total_rec_int\n",
       ":   0total_rec_late_fee\n",
       ":   0recoveries\n",
       ":   0collection_recovery_fee\n",
       ":   0last_pymnt_d\n",
       ":   0last_pymnt_amnt\n",
       ":   0next_pymnt_d\n",
       ":   0last_credit_pull_d\n",
       ":   0last_fico_range_high\n",
       ":   0last_fico_range_low\n",
       ":   0collections_12_mths_ex_med\n",
       ":   0policy_code\n",
       ":   0application_type\n",
       ":   0acc_now_delinq\n",
       ":   0chargeoff_within_12_mths\n",
       ":   0delinq_amnt\n",
       ":   0pub_rec_bankruptcies\n",
       ":   0tax_liens\n",
       ":   0default\n",
       ":   0\n",
       "\n"
      ],
      "text/plain": [
       "                 member_id                  loan_amnt \n",
       "                         0                          0 \n",
       "               funded_amnt            funded_amnt_inv \n",
       "                         0                          0 \n",
       "                      term                   int_rate \n",
       "                         0                          0 \n",
       "               installment                      grade \n",
       "                         0                          0 \n",
       "                 sub_grade                 emp_length \n",
       "                         0                          0 \n",
       "            home_ownership                 annual_inc \n",
       "                         0                          0 \n",
       "       verification_status                    issue_d \n",
       "                         0                          0 \n",
       "                pymnt_plan                    purpose \n",
       "                         0                          0 \n",
       "                addr_state                        dti \n",
       "                         0                          0 \n",
       "               delinq_2yrs           earliest_cr_line \n",
       "                         0                          0 \n",
       "            fico_range_low            fico_range_high \n",
       "                         0                          0 \n",
       "            inq_last_6mths                   open_acc \n",
       "                         0                          0 \n",
       "                   pub_rec                  revol_bal \n",
       "                         0                          0 \n",
       "                revol_util                  total_acc \n",
       "                         0                          0 \n",
       "       initial_list_status                  out_prncp \n",
       "                         0                          0 \n",
       "             out_prncp_inv                total_pymnt \n",
       "                         0                          0 \n",
       "           total_pymnt_inv            total_rec_prncp \n",
       "                         0                          0 \n",
       "             total_rec_int         total_rec_late_fee \n",
       "                         0                          0 \n",
       "                recoveries    collection_recovery_fee \n",
       "                         0                          0 \n",
       "              last_pymnt_d            last_pymnt_amnt \n",
       "                         0                          0 \n",
       "              next_pymnt_d         last_credit_pull_d \n",
       "                         0                          0 \n",
       "      last_fico_range_high        last_fico_range_low \n",
       "                         0                          0 \n",
       "collections_12_mths_ex_med                policy_code \n",
       "                         0                          0 \n",
       "          application_type             acc_now_delinq \n",
       "                         0                          0 \n",
       "  chargeoff_within_12_mths                delinq_amnt \n",
       "                         0                          0 \n",
       "      pub_rec_bankruptcies                  tax_liens \n",
       "                         0                          0 \n",
       "                   default \n",
       "                         0 "
      ]
     },
     "metadata": {},
     "output_type": "display_data"
    }
   ],
   "source": [
    "sapply(lending_club_final, function(x) sum(is.na(x)))"
   ]
  },
  {
   "cell_type": "markdown",
   "metadata": {},
   "source": [
    "#### Cleaning data set and removing variables/features not known at issuance of loan\n",
    "I am removing all variables which are not known at the time of issuance because the aim of this project is to determine a predictive model which can be used before issuing a loan."
   ]
  },
  {
   "cell_type": "code",
   "execution_count": 58,
   "metadata": {
    "collapsed": false
   },
   "outputs": [],
   "source": [
    "lending_club_final <- lending_club_final[, !(colnames(lending_club_final) %in% c(\"total_rec_int\",\"total_pymnt_inv\",\"total_pymnt\"\n",
    "                                                                                 ,\"total_rec_prncp\",\"collection_recovery_fee\",\n",
    "                                                                                 \"recoveries\",\"last_pymnt_amnt\",\n",
    "                                                                                 \"total_rec_late_fee\",\"last_pymnt_d\",\n",
    "                                                                                 \"last_pymnt_amnt\",\"next_pymnt_d\"))]"
   ]
  },
  {
   "cell_type": "markdown",
   "metadata": {},
   "source": [
    "#### Makeup of the data set after cleansing and pruning"
   ]
  },
  {
   "cell_type": "code",
   "execution_count": 59,
   "metadata": {
    "collapsed": false
   },
   "outputs": [
    {
     "name": "stdout",
     "output_type": "stream",
     "text": [
      "'data.frame':\t85083 obs. of  43 variables:\n",
      " $ member_id                 : int  4068919 3982350 4058105 4067567 4057467 3982347 4067275 3417777 4066823 4027605 ...\n",
      " $ loan_amnt                 : int  22000 4750 2000 5000 2500 1800 4500 6000 4200 3600 ...\n",
      " $ funded_amnt               : int  22000 4750 2000 5000 2500 1800 4500 6000 4200 3600 ...\n",
      " $ funded_amnt_inv           : num  22000 4750 2000 5000 2500 1800 4500 6000 4200 3600 ...\n",
      " $ term                      : Factor w/ 3 levels \"\",\" 36 months\",..: 2 2 2 2 2 2 2 2 2 2 ...\n",
      " $ int_rate                  : num  17.3 19.1 19.7 19.1 21.5 ...\n",
      " $ installment               : num  787.3 174.2 74 183.4 94.8 ...\n",
      " $ grade                     : Factor w/ 8 levels \"\",\"A\",\"B\",\"C\",..: 4 5 5 5 6 5 4 4 4 5 ...\n",
      " $ sub_grade                 : Factor w/ 36 levels \"\",\"A1\",\"A2\",\"A3\",..: 16 20 21 20 24 18 13 13 16 17 ...\n",
      " $ emp_length                : Factor w/ 13 levels \"\",\"< 1 year\",..: 4 7 4 4 10 4 4 4 10 4 ...\n",
      " $ home_ownership            : Factor w/ 6 levels \"\",\"MORTGAGE\",..: 6 6 5 6 6 6 2 6 2 6 ...\n",
      " $ annual_inc                : num  49000 42000 45000 48000 38000 67200 78000 40000 50000 35000 ...\n",
      " $ verification_status       : Factor w/ 4 levels \"\",\"Not Verified\",..: 4 2 2 2 2 3 2 2 2 2 ...\n",
      " $ issue_d                   : Date, format: \"2013-01-01\" \"2013-01-01\" ...\n",
      " $ pymnt_plan                : Factor w/ 3 levels \"\",\"n\",\"y\": 2 2 2 2 2 2 2 2 2 2 ...\n",
      " $ purpose                   : Factor w/ 15 levels \"\",\"car\",\"credit_card\",..: 4 10 10 14 8 7 5 3 4 3 ...\n",
      " $ addr_state                : Factor w/ 51 levels \"\",\"AK\",\"AL\",\"AR\",..: 47 34 46 6 16 6 6 7 43 16 ...\n",
      " $ dti                       : num  29.78 19.14 3.72 3 11.02 ...\n",
      " $ delinq_2yrs               : int  0 0 0 0 0 0 1 0 0 2 ...\n",
      " $ earliest_cr_line          : Date, format: \"2001-03-01\" \"1990-10-01\" ...\n",
      " $ fico_range_low            : int  665 685 660 710 680 665 680 665 665 690 ...\n",
      " $ fico_range_high           : int  669 689 664 714 684 669 684 669 669 694 ...\n",
      " $ inq_last_6mths            : int  0 1 0 0 0 0 0 0 1 2 ...\n",
      " $ open_acc                  : int  10 12 3 2 5 9 5 8 14 8 ...\n",
      " $ pub_rec                   : int  0 0 0 0 1 0 0 1 0 0 ...\n",
      " $ revol_bal                 : int  14681 8890 3986 736 1142 12955 12637 6290 10406 3843 ...\n",
      " $ revol_util                : num  75.7 42.1 43.3 92 40.8 75.3 83.7 77.7 71.8 31.5 ...\n",
      " $ total_acc                 : int  22 27 28 12 10 15 11 17 18 19 ...\n",
      " $ initial_list_status       : Factor w/ 3 levels \"\",\"f\",\"w\": 2 2 2 3 2 2 2 3 2 2 ...\n",
      " $ out_prncp                 : num  0 0 0 0 0 0 0 0 0 0 ...\n",
      " $ out_prncp_inv             : num  0 0 0 0 0 0 0 0 0 0 ...\n",
      " $ last_credit_pull_d        : Date, format: \"2016-04-01\" \"2016-01-01\" ...\n",
      " $ last_fico_range_high      : int  584 599 749 704 789 559 709 774 594 754 ...\n",
      " $ last_fico_range_low       : int  580 595 745 700 785 555 705 770 590 750 ...\n",
      " $ collections_12_mths_ex_med: int  0 0 0 0 0 0 0 0 0 0 ...\n",
      " $ policy_code               : int  1 1 1 1 1 1 1 1 1 1 ...\n",
      " $ application_type          : Factor w/ 2 levels \"\",\"INDIVIDUAL\": 2 2 2 2 2 2 2 2 2 2 ...\n",
      " $ acc_now_delinq            : int  0 0 0 0 0 0 0 0 0 0 ...\n",
      " $ chargeoff_within_12_mths  : int  0 0 0 0 0 0 0 0 0 0 ...\n",
      " $ delinq_amnt               : int  0 0 0 0 0 0 0 0 0 0 ...\n",
      " $ pub_rec_bankruptcies      : int  0 0 0 0 1 0 0 1 0 0 ...\n",
      " $ tax_liens                 : int  0 0 0 0 0 0 0 0 0 0 ...\n",
      " $ default                   : num  0 0 0 0 0 0 0 0 1 0 ...\n"
     ]
    }
   ],
   "source": [
    "str(lending_club_final)"
   ]
  },
  {
   "cell_type": "markdown",
   "metadata": {},
   "source": [
    "#### Create training and test data sets"
   ]
  },
  {
   "cell_type": "code",
   "execution_count": 60,
   "metadata": {
    "collapsed": false
   },
   "outputs": [],
   "source": [
    "train_rows <- sample(nrow(lending_club_final),20000)\n",
    "lending_club.train <- lending_club_final[train_rows,]\n",
    "lending_club.test <- lending_club_final[-train_rows,]"
   ]
  },
  {
   "cell_type": "markdown",
   "metadata": {},
   "source": [
    "### Random Forest\n",
    "#### Train model - Pre-RFE\n",
    "I am training the random forest algorithm against all of the variables/features because I want to create an Importance Plot (see next step) and use it as a comparison to the RFE analysis."
   ]
  },
  {
   "cell_type": "code",
   "execution_count": 61,
   "metadata": {
    "collapsed": false
   },
   "outputs": [],
   "source": [
    "library(randomForest)\n",
    "set.seed(9)\n",
    "\n",
    "rf.fit <- randomForest(as.factor(default)~., data=lending_club.train, importance=TRUE, ntree=700)"
   ]
  },
  {
   "cell_type": "markdown",
   "metadata": {},
   "source": [
    "#### Plot the importance of each of the variables (at least the significantly important ones)"
   ]
  },
  {
   "cell_type": "code",
   "execution_count": 62,
   "metadata": {
    "collapsed": false
   },
   "outputs": [
    {
     "data": {
      "image/png": "[encoded data removed]",
      "text/plain": [
       "plot without title"
      ]
     },
     "metadata": {},
     "output_type": "display_data"
    }
   ],
   "source": [
    "varImpPlot(rf.fit)"
   ]
  },
  {
   "cell_type": "markdown",
   "metadata": {},
   "source": [
    "#### Generate predictions (Random Forest - Pre-RFE)"
   ]
  },
  {
   "cell_type": "code",
   "execution_count": 64,
   "metadata": {
    "collapsed": false
   },
   "outputs": [
    {
     "name": "stderr",
     "output_type": "stream",
     "text": [
      "Warning message:\n",
      "\"package 'e1071' is in use and will not be installed\""
     ]
    }
   ],
   "source": [
    "library(caret)\n",
    "install.packages(\"e1071\", repos='http://cran.us.r-project.org',dependencies = TRUE)\n",
    "library(e1071)\n",
    "\n",
    "# Generate predictions based on model\n",
    "lending_club.test$default.pred <- predict(rf.fit,lending_club.test)"
   ]
  },
  {
   "cell_type": "markdown",
   "metadata": {},
   "source": [
    "#### Measure performance - Random Forest Pre-RFE"
   ]
  },
  {
   "cell_type": "code",
   "execution_count": 67,
   "metadata": {
    "collapsed": false
   },
   "outputs": [
    {
     "data": {
      "text/plain": [
       "Confusion Matrix and Statistics\n",
       "\n",
       "          Reference\n",
       "Prediction     0     1\n",
       "         0 56693  7748\n",
       "         1   107   535\n",
       "                                          \n",
       "               Accuracy : 0.8793          \n",
       "                 95% CI : (0.8768, 0.8818)\n",
       "    No Information Rate : 0.8727          \n",
       "    P-Value [Acc > NIR] : 2.048e-07       \n",
       "                                          \n",
       "                  Kappa : 0.1035          \n",
       " Mcnemar's Test P-Value : < 2.2e-16       \n",
       "                                          \n",
       "            Sensitivity : 0.99812         \n",
       "            Specificity : 0.06459         \n",
       "         Pos Pred Value : 0.87977         \n",
       "         Neg Pred Value : 0.83333         \n",
       "             Prevalence : 0.87273         \n",
       "         Detection Rate : 0.87109         \n",
       "   Detection Prevalence : 0.99014         \n",
       "      Balanced Accuracy : 0.53135         \n",
       "                                          \n",
       "       'Positive' Class : 0               \n",
       "                                          "
      ]
     },
     "metadata": {},
     "output_type": "display_data"
    },
    {
     "name": "stderr",
     "output_type": "stream",
     "text": [
      "also installing the dependencies 'misc3d', 'rgl', 'multicool', 'ks', 'microbenchmark', 'logcondens', 'doParallel'\n",
      "\n"
     ]
    },
    {
     "name": "stdout",
     "output_type": "stream",
     "text": [
      "package 'misc3d' successfully unpacked and MD5 sums checked\n",
      "package 'rgl' successfully unpacked and MD5 sums checked\n",
      "package 'multicool' successfully unpacked and MD5 sums checked\n",
      "package 'ks' successfully unpacked and MD5 sums checked\n",
      "package 'microbenchmark' successfully unpacked and MD5 sums checked\n",
      "package 'logcondens' successfully unpacked and MD5 sums checked\n",
      "package 'doParallel' successfully unpacked and MD5 sums checked\n",
      "package 'pROC' successfully unpacked and MD5 sums checked\n",
      "\n",
      "The downloaded binary packages are in\n",
      "\tC:\\Users\\Ethan\\AppData\\Local\\Temp\\Rtmp6ZpgeQ\\downloaded_packages\n"
     ]
    },
    {
     "name": "stderr",
     "output_type": "stream",
     "text": [
      "Warning message:\n",
      "\"package 'pROC' was built under R version 3.3.2\"Type 'citation(\"pROC\")' for a citation.\n",
      "\n",
      "Attaching package: 'pROC'\n",
      "\n",
      "The following objects are masked from 'package:stats':\n",
      "\n",
      "    cov, smooth, var\n",
      "\n"
     ]
    },
    {
     "data": {
      "text/html": [
       "0.531353160767089"
      ],
      "text/latex": [
       "0.531353160767089"
      ],
      "text/markdown": [
       "0.531353160767089"
      ],
      "text/plain": [
       "Area under the curve: 0.5314"
      ]
     },
     "metadata": {},
     "output_type": "display_data"
    }
   ],
   "source": [
    "# Create Confusion Matrix\n",
    "confusionMatrix(lending_club.test$default.pred,lending_club.test$default)\n",
    "\n",
    "install.packages(\"pROC\", repos='http://cran.us.r-project.org',dependencies = TRUE)\n",
    "library(pROC)\n",
    "# area under a ROC curve\n",
    "auc(lending_club.test$default,as.numeric(lending_club.test$default.pred))"
   ]
  },
  {
   "cell_type": "markdown",
   "metadata": {},
   "source": [
    "#### Recursive Feature Elimination (RFE)\n",
    "So far we have not considered significance when cleansing the data set.  RFE analysis will identify a data set subset for optimal results."
   ]
  },
  {
   "cell_type": "code",
   "execution_count": 72,
   "metadata": {
    "collapsed": false
   },
   "outputs": [
    {
     "name": "stderr",
     "output_type": "stream",
     "text": [
      "Warning message in randomForest.default(x, y, importance = first, ...):\n",
      "\"The response has five or fewer unique values.  Are you sure you want to do regression?\"Warning message in randomForest.default(x, y, importance = first, ...):\n",
      "\"The response has five or fewer unique values.  Are you sure you want to do regression?\"Warning message in randomForest.default(x, y, importance = first, ...):\n",
      "\"The response has five or fewer unique values.  Are you sure you want to do regression?\"Warning message in randomForest.default(x, y, importance = first, ...):\n",
      "\"The response has five or fewer unique values.  Are you sure you want to do regression?\"Warning message in randomForest.default(x, y, importance = first, ...):\n",
      "\"The response has five or fewer unique values.  Are you sure you want to do regression?\"Warning message in randomForest.default(x, y, importance = first, ...):\n",
      "\"The response has five or fewer unique values.  Are you sure you want to do regression?\"Warning message in randomForest.default(x, y, importance = first, ...):\n",
      "\"The response has five or fewer unique values.  Are you sure you want to do regression?\"Warning message in randomForest.default(x, y, importance = first, ...):\n",
      "\"The response has five or fewer unique values.  Are you sure you want to do regression?\"Warning message in randomForest.default(x, y, importance = first, ...):\n",
      "\"The response has five or fewer unique values.  Are you sure you want to do regression?\"Warning message in randomForest.default(x, y, importance = first, ...):\n",
      "\"The response has five or fewer unique values.  Are you sure you want to do regression?\"Warning message in randomForest.default(x, y, importance = first, ...):\n",
      "\"The response has five or fewer unique values.  Are you sure you want to do regression?\"Warning message in randomForest.default(x, y, importance = first, ...):\n",
      "\"The response has five or fewer unique values.  Are you sure you want to do regression?\"Warning message in randomForest.default(x, y, importance = first, ...):\n",
      "\"The response has five or fewer unique values.  Are you sure you want to do regression?\"Warning message in randomForest.default(x, y, importance = first, ...):\n",
      "\"The response has five or fewer unique values.  Are you sure you want to do regression?\"Warning message in randomForest.default(x, y, importance = first, ...):\n",
      "\"The response has five or fewer unique values.  Are you sure you want to do regression?\"Warning message in randomForest.default(x, y, importance = first, ...):\n",
      "\"The response has five or fewer unique values.  Are you sure you want to do regression?\"Warning message in randomForest.default(x, y, importance = first, ...):\n",
      "\"The response has five or fewer unique values.  Are you sure you want to do regression?\"Warning message in randomForest.default(x, y, importance = first, ...):\n",
      "\"The response has five or fewer unique values.  Are you sure you want to do regression?\"Warning message in randomForest.default(x, y, importance = first, ...):\n",
      "\"The response has five or fewer unique values.  Are you sure you want to do regression?\"Warning message in randomForest.default(x, y, importance = first, ...):\n",
      "\"The response has five or fewer unique values.  Are you sure you want to do regression?\"Warning message in randomForest.default(x, y, importance = first, ...):\n",
      "\"The response has five or fewer unique values.  Are you sure you want to do regression?\"Warning message in randomForest.default(x, y, importance = first, ...):\n",
      "\"The response has five or fewer unique values.  Are you sure you want to do regression?\"Warning message in randomForest.default(x, y, importance = first, ...):\n",
      "\"The response has five or fewer unique values.  Are you sure you want to do regression?\"Warning message in randomForest.default(x, y, importance = first, ...):\n",
      "\"The response has five or fewer unique values.  Are you sure you want to do regression?\"Warning message in randomForest.default(x, y, importance = first, ...):\n",
      "\"The response has five or fewer unique values.  Are you sure you want to do regression?\"Warning message in randomForest.default(x, y, importance = first, ...):\n",
      "\"The response has five or fewer unique values.  Are you sure you want to do regression?\"Warning message in randomForest.default(x, y, importance = first, ...):\n",
      "\"The response has five or fewer unique values.  Are you sure you want to do regression?\"Warning message in randomForest.default(x, y, importance = first, ...):\n",
      "\"The response has five or fewer unique values.  Are you sure you want to do regression?\"Warning message in randomForest.default(x, y, importance = first, ...):\n",
      "\"The response has five or fewer unique values.  Are you sure you want to do regression?\"Warning message in randomForest.default(x, y, importance = first, ...):\n",
      "\"The response has five or fewer unique values.  Are you sure you want to do regression?\"Warning message in randomForest.default(x, y, importance = first, ...):\n",
      "\"The response has five or fewer unique values.  Are you sure you want to do regression?\"Warning message in randomForest.default(x, y, importance = first, ...):\n",
      "\"The response has five or fewer unique values.  Are you sure you want to do regression?\"Warning message in randomForest.default(x, y, importance = first, ...):\n",
      "\"The response has five or fewer unique values.  Are you sure you want to do regression?\"Warning message in randomForest.default(x, y, importance = first, ...):\n",
      "\"The response has five or fewer unique values.  Are you sure you want to do regression?\"Warning message in randomForest.default(x, y, importance = first, ...):\n",
      "\"The response has five or fewer unique values.  Are you sure you want to do regression?\"Warning message in randomForest.default(x, y, importance = first, ...):\n",
      "\"The response has five or fewer unique values.  Are you sure you want to do regression?\"Warning message in randomForest.default(x, y, importance = first, ...):\n",
      "\"The response has five or fewer unique values.  Are you sure you want to do regression?\"Warning message in randomForest.default(x, y, importance = first, ...):\n",
      "\"The response has five or fewer unique values.  Are you sure you want to do regression?\"Warning message in randomForest.default(x, y, importance = first, ...):\n",
      "\"The response has five or fewer unique values.  Are you sure you want to do regression?\"Warning message in randomForest.default(x, y, importance = first, ...):\n",
      "\"The response has five or fewer unique values.  Are you sure you want to do regression?\"Warning message in randomForest.default(x, y, importance = first, ...):\n",
      "\"The response has five or fewer unique values.  Are you sure you want to do regression?\"Warning message in randomForest.default(x, y, importance = first, ...):\n",
      "\"The response has five or fewer unique values.  Are you sure you want to do regression?\"Warning message in randomForest.default(x, y, importance = first, ...):\n",
      "\"The response has five or fewer unique values.  Are you sure you want to do regression?\"Warning message in randomForest.default(x, y, importance = first, ...):\n",
      "\"The response has five or fewer unique values.  Are you sure you want to do regression?\"Warning message in randomForest.default(x, y, importance = first, ...):\n",
      "\"The response has five or fewer unique values.  Are you sure you want to do regression?\"Warning message in randomForest.default(x, y, importance = first, ...):\n",
      "\"The response has five or fewer unique values.  Are you sure you want to do regression?\"Warning message in randomForest.default(x, y, importance = first, ...):\n",
      "\"The response has five or fewer unique values.  Are you sure you want to do regression?\"Warning message in randomForest.default(x, y, importance = first, ...):\n",
      "\"The response has five or fewer unique values.  Are you sure you want to do regression?\"Warning message in randomForest.default(x, y, importance = first, ...):\n",
      "\"The response has five or fewer unique values.  Are you sure you want to do regression?\"Warning message in randomForest.default(x, y, importance = first, ...):\n",
      "\"The response has five or fewer unique values.  Are you sure you want to do regression?\"Warning message in randomForest.default(x, y, importance = first, ...):\n",
      "\"The response has five or fewer unique values.  Are you sure you want to do regression?\"Warning message in randomForest.default(x, y, importance = first, ...):\n",
      "\"The response has five or fewer unique values.  Are you sure you want to do regression?\"Warning message in randomForest.default(x, y, importance = first, ...):\n",
      "\"The response has five or fewer unique values.  Are you sure you want to do regression?\"Warning message in randomForest.default(x, y, importance = first, ...):\n",
      "\"The response has five or fewer unique values.  Are you sure you want to do regression?\"Warning message in randomForest.default(x, y, importance = first, ...):\n",
      "\"The response has five or fewer unique values.  Are you sure you want to do regression?\"Warning message in randomForest.default(x, y, importance = first, ...):\n",
      "\"The response has five or fewer unique values.  Are you sure you want to do regression?\"Warning message in randomForest.default(x, y, importance = first, ...):\n",
      "\"The response has five or fewer unique values.  Are you sure you want to do regression?\"Warning message in randomForest.default(x, y, importance = first, ...):\n",
      "\"The response has five or fewer unique values.  Are you sure you want to do regression?\"Warning message in randomForest.default(x, y, importance = first, ...):\n",
      "\"The response has five or fewer unique values.  Are you sure you want to do regression?\"Warning message in randomForest.default(x, y, importance = first, ...):\n",
      "\"The response has five or fewer unique values.  Are you sure you want to do regression?\"Warning message in randomForest.default(x, y, importance = first, ...):\n",
      "\"The response has five or fewer unique values.  Are you sure you want to do regression?\"Warning message in randomForest.default(x, y, importance = first, ...):\n",
      "\"The response has five or fewer unique values.  Are you sure you want to do regression?\"Warning message in randomForest.default(x, y, importance = first, ...):\n",
      "\"The response has five or fewer unique values.  Are you sure you want to do regression?\"Warning message in randomForest.default(x, y, importance = first, ...):\n",
      "\"The response has five or fewer unique values.  Are you sure you want to do regression?\"Warning message in randomForest.default(x, y, importance = first, ...):\n",
      "\"The response has five or fewer unique values.  Are you sure you want to do regression?\"Warning message in randomForest.default(x, y, importance = first, ...):\n",
      "\"The response has five or fewer unique values.  Are you sure you want to do regression?\"Warning message in randomForest.default(x, y, importance = first, ...):\n",
      "\"The response has five or fewer unique values.  Are you sure you want to do regression?\"Warning message in randomForest.default(x, y, importance = first, ...):\n",
      "\"The response has five or fewer unique values.  Are you sure you want to do regression?\"Warning message in randomForest.default(x, y, importance = first, ...):\n",
      "\"The response has five or fewer unique values.  Are you sure you want to do regression?\"Warning message in randomForest.default(x, y, importance = first, ...):\n",
      "\"The response has five or fewer unique values.  Are you sure you want to do regression?\"Warning message in randomForest.default(x, y, importance = first, ...):\n",
      "\"The response has five or fewer unique values.  Are you sure you want to do regression?\"Warning message in randomForest.default(x, y, importance = first, ...):\n",
      "\"The response has five or fewer unique values.  Are you sure you want to do regression?\"Warning message in randomForest.default(x, y, importance = first, ...):\n",
      "\"The response has five or fewer unique values.  Are you sure you want to do regression?\"Warning message in randomForest.default(x, y, importance = first, ...):\n",
      "\"The response has five or fewer unique values.  Are you sure you want to do regression?\"Warning message in randomForest.default(x, y, importance = first, ...):\n",
      "\"The response has five or fewer unique values.  Are you sure you want to do regression?\"Warning message in randomForest.default(x, y, importance = first, ...):\n",
      "\"The response has five or fewer unique values.  Are you sure you want to do regression?\"Warning message in randomForest.default(x, y, importance = first, ...):\n",
      "\"The response has five or fewer unique values.  Are you sure you want to do regression?\"Warning message in randomForest.default(x, y, importance = first, ...):\n",
      "\"The response has five or fewer unique values.  Are you sure you want to do regression?\"Warning message in randomForest.default(x, y, importance = first, ...):\n",
      "\"The response has five or fewer unique values.  Are you sure you want to do regression?\"Warning message in randomForest.default(x, y, importance = first, ...):\n",
      "\"The response has five or fewer unique values.  Are you sure you want to do regression?\"Warning message in randomForest.default(x, y, importance = first, ...):\n",
      "\"The response has five or fewer unique values.  Are you sure you want to do regression?\"Warning message in randomForest.default(x, y, importance = first, ...):\n",
      "\"The response has five or fewer unique values.  Are you sure you want to do regression?\"Warning message in randomForest.default(x, y, importance = first, ...):\n",
      "\"The response has five or fewer unique values.  Are you sure you want to do regression?\"Warning message in randomForest.default(x, y, importance = first, ...):\n",
      "\"The response has five or fewer unique values.  Are you sure you want to do regression?\"Warning message in randomForest.default(x, y, importance = first, ...):\n",
      "\"The response has five or fewer unique values.  Are you sure you want to do regression?\"Warning message in randomForest.default(x, y, importance = first, ...):\n",
      "\"The response has five or fewer unique values.  Are you sure you want to do regression?\"Warning message in randomForest.default(x, y, importance = first, ...):\n",
      "\"The response has five or fewer unique values.  Are you sure you want to do regression?\"Warning message in randomForest.default(x, y, importance = first, ...):\n",
      "\"The response has five or fewer unique values.  Are you sure you want to do regression?\"Warning message in randomForest.default(x, y, importance = first, ...):\n",
      "\"The response has five or fewer unique values.  Are you sure you want to do regression?\"Warning message in randomForest.default(x, y, importance = first, ...):\n",
      "\"The response has five or fewer unique values.  Are you sure you want to do regression?\"Warning message in randomForest.default(x, y, importance = first, ...):\n",
      "\"The response has five or fewer unique values.  Are you sure you want to do regression?\"Warning message in randomForest.default(x, y, importance = first, ...):\n",
      "\"The response has five or fewer unique values.  Are you sure you want to do regression?\"Warning message in randomForest.default(x, y, importance = first, ...):\n",
      "\"The response has five or fewer unique values.  Are you sure you want to do regression?\"Warning message in randomForest.default(x, y, importance = first, ...):\n",
      "\"The response has five or fewer unique values.  Are you sure you want to do regression?\"Warning message in randomForest.default(x, y, importance = first, ...):\n",
      "\"The response has five or fewer unique values.  Are you sure you want to do regression?\"Warning message in randomForest.default(x, y, importance = first, ...):\n",
      "\"The response has five or fewer unique values.  Are you sure you want to do regression?\"Warning message in randomForest.default(x, y, importance = first, ...):\n",
      "\"The response has five or fewer unique values.  Are you sure you want to do regression?\"Warning message in randomForest.default(x, y, importance = first, ...):\n",
      "\"The response has five or fewer unique values.  Are you sure you want to do regression?\"Warning message in randomForest.default(x, y, importance = first, ...):\n",
      "\"The response has five or fewer unique values.  Are you sure you want to do regression?\"Warning message in randomForest.default(x, y, importance = first, ...):\n",
      "\"The response has five or fewer unique values.  Are you sure you want to do regression?\"Warning message in randomForest.default(x, y, importance = first, ...):\n",
      "\"The response has five or fewer unique values.  Are you sure you want to do regression?\"Warning message in randomForest.default(x, y, importance = first, ...):\n",
      "\"The response has five or fewer unique values.  Are you sure you want to do regression?\"Warning message in randomForest.default(x, y, importance = first, ...):\n",
      "\"The response has five or fewer unique values.  Are you sure you want to do regression?\"Warning message in randomForest.default(x, y, importance = first, ...):\n",
      "\"The response has five or fewer unique values.  Are you sure you want to do regression?\"Warning message in randomForest.default(x, y, importance = first, ...):\n",
      "\"The response has five or fewer unique values.  Are you sure you want to do regression?\"Warning message in randomForest.default(x, y, importance = first, ...):\n",
      "\"The response has five or fewer unique values.  Are you sure you want to do regression?\"Warning message in randomForest.default(x, y, importance = first, ...):\n",
      "\"The response has five or fewer unique values.  Are you sure you want to do regression?\"Warning message in randomForest.default(x, y, importance = first, ...):\n",
      "\"The response has five or fewer unique values.  Are you sure you want to do regression?\"Warning message in randomForest.default(x, y, importance = first, ...):\n",
      "\"The response has five or fewer unique values.  Are you sure you want to do regression?\"Warning message in randomForest.default(x, y, importance = first, ...):\n",
      "\"The response has five or fewer unique values.  Are you sure you want to do regression?\"Warning message in randomForest.default(x, y, importance = first, ...):\n",
      "\"The response has five or fewer unique values.  Are you sure you want to do regression?\"Warning message in randomForest.default(x, y, importance = first, ...):\n",
      "\"The response has five or fewer unique values.  Are you sure you want to do regression?\"Warning message in randomForest.default(x, y, importance = first, ...):\n",
      "\"The response has five or fewer unique values.  Are you sure you want to do regression?\"Warning message in randomForest.default(x, y, importance = first, ...):\n",
      "\"The response has five or fewer unique values.  Are you sure you want to do regression?\"Warning message in randomForest.default(x, y, importance = first, ...):\n",
      "\"The response has five or fewer unique values.  Are you sure you want to do regression?\"Warning message in randomForest.default(x, y, importance = first, ...):\n",
      "\"The response has five or fewer unique values.  Are you sure you want to do regression?\"Warning message in randomForest.default(x, y, importance = first, ...):\n",
      "\"The response has five or fewer unique values.  Are you sure you want to do regression?\"Warning message in randomForest.default(x, y, importance = first, ...):\n",
      "\"The response has five or fewer unique values.  Are you sure you want to do regression?\"Warning message in randomForest.default(x, y, importance = first, ...):\n",
      "\"The response has five or fewer unique values.  Are you sure you want to do regression?\"Warning message in randomForest.default(x, y, importance = first, ...):\n",
      "\"The response has five or fewer unique values.  Are you sure you want to do regression?\"Warning message in randomForest.default(x, y, importance = first, ...):\n",
      "\"The response has five or fewer unique values.  Are you sure you want to do regression?\"Warning message in randomForest.default(x, y, importance = first, ...):\n",
      "\"The response has five or fewer unique values.  Are you sure you want to do regression?\"Warning message in randomForest.default(x, y, importance = first, ...):\n",
      "\"The response has five or fewer unique values.  Are you sure you want to do regression?\"Warning message in randomForest.default(x, y, importance = first, ...):\n",
      "\"The response has five or fewer unique values.  Are you sure you want to do regression?\"Warning message in randomForest.default(x, y, importance = first, ...):\n",
      "\"The response has five or fewer unique values.  Are you sure you want to do regression?\"Warning message in randomForest.default(x, y, importance = first, ...):\n",
      "\"The response has five or fewer unique values.  Are you sure you want to do regression?\"Warning message in randomForest.default(x, y, importance = first, ...):\n",
      "\"The response has five or fewer unique values.  Are you sure you want to do regression?\"Warning message in randomForest.default(x, y, importance = first, ...):\n",
      "\"The response has five or fewer unique values.  Are you sure you want to do regression?\"Warning message in randomForest.default(x, y, importance = first, ...):\n",
      "\"The response has five or fewer unique values.  Are you sure you want to do regression?\"Warning message in randomForest.default(x, y, importance = first, ...):\n",
      "\"The response has five or fewer unique values.  Are you sure you want to do regression?\"Warning message in randomForest.default(x, y, importance = first, ...):\n",
      "\"The response has five or fewer unique values.  Are you sure you want to do regression?\"Warning message in randomForest.default(x, y, importance = first, ...):\n",
      "\"The response has five or fewer unique values.  Are you sure you want to do regression?\"Warning message in randomForest.default(x, y, importance = first, ...):\n",
      "\"The response has five or fewer unique values.  Are you sure you want to do regression?\"Warning message in randomForest.default(x, y, importance = first, ...):\n",
      "\"The response has five or fewer unique values.  Are you sure you want to do regression?\"Warning message in randomForest.default(x, y, importance = first, ...):\n",
      "\"The response has five or fewer unique values.  Are you sure you want to do regression?\"Warning message in randomForest.default(x, y, importance = first, ...):\n",
      "\"The response has five or fewer unique values.  Are you sure you want to do regression?\"Warning message in randomForest.default(x, y, importance = first, ...):\n",
      "\"The response has five or fewer unique values.  Are you sure you want to do regression?\"Warning message in randomForest.default(x, y, importance = first, ...):\n",
      "\"The response has five or fewer unique values.  Are you sure you want to do regression?\"Warning message in randomForest.default(x, y, importance = first, ...):\n",
      "\"The response has five or fewer unique values.  Are you sure you want to do regression?\"Warning message in randomForest.default(x, y, importance = first, ...):\n",
      "\"The response has five or fewer unique values.  Are you sure you want to do regression?\"Warning message in randomForest.default(x, y, importance = first, ...):\n",
      "\"The response has five or fewer unique values.  Are you sure you want to do regression?\"Warning message in randomForest.default(x, y, importance = first, ...):\n",
      "\"The response has five or fewer unique values.  Are you sure you want to do regression?\"Warning message in randomForest.default(x, y, importance = first, ...):\n",
      "\"The response has five or fewer unique values.  Are you sure you want to do regression?\"Warning message in randomForest.default(x, y, importance = first, ...):\n",
      "\"The response has five or fewer unique values.  Are you sure you want to do regression?\"Warning message in randomForest.default(x, y, importance = first, ...):\n",
      "\"The response has five or fewer unique values.  Are you sure you want to do regression?\"Warning message in randomForest.default(x, y, importance = first, ...):\n",
      "\"The response has five or fewer unique values.  Are you sure you want to do regression?\"Warning message in randomForest.default(x, y, importance = first, ...):\n",
      "\"The response has five or fewer unique values.  Are you sure you want to do regression?\"Warning message in randomForest.default(x, y, importance = first, ...):\n",
      "\"The response has five or fewer unique values.  Are you sure you want to do regression?\"Warning message in randomForest.default(x, y, importance = first, ...):\n",
      "\"The response has five or fewer unique values.  Are you sure you want to do regression?\"Warning message in randomForest.default(x, y, importance = first, ...):\n",
      "\"The response has five or fewer unique values.  Are you sure you want to do regression?\"Warning message in randomForest.default(x, y, importance = first, ...):\n",
      "\"The response has five or fewer unique values.  Are you sure you want to do regression?\"Warning message in randomForest.default(x, y, importance = first, ...):\n",
      "\"The response has five or fewer unique values.  Are you sure you want to do regression?\"Warning message in randomForest.default(x, y, importance = first, ...):\n",
      "\"The response has five or fewer unique values.  Are you sure you want to do regression?\"Warning message in randomForest.default(x, y, importance = first, ...):\n",
      "\"The response has five or fewer unique values.  Are you sure you want to do regression?\"Warning message in randomForest.default(x, y, importance = first, ...):\n",
      "\"The response has five or fewer unique values.  Are you sure you want to do regression?\"Warning message in randomForest.default(x, y, importance = first, ...):\n",
      "\"The response has five or fewer unique values.  Are you sure you want to do regression?\"Warning message in randomForest.default(x, y, importance = first, ...):\n",
      "\"The response has five or fewer unique values.  Are you sure you want to do regression?\"Warning message in randomForest.default(x, y, importance = first, ...):\n",
      "\"The response has five or fewer unique values.  Are you sure you want to do regression?\"Warning message in randomForest.default(x, y, importance = first, ...):\n",
      "\"The response has five or fewer unique values.  Are you sure you want to do regression?\"Warning message in randomForest.default(x, y, importance = first, ...):\n",
      "\"The response has five or fewer unique values.  Are you sure you want to do regression?\"Warning message in randomForest.default(x, y, importance = first, ...):\n",
      "\"The response has five or fewer unique values.  Are you sure you want to do regression?\"Warning message in randomForest.default(x, y, importance = first, ...):\n",
      "\"The response has five or fewer unique values.  Are you sure you want to do regression?\"Warning message in randomForest.default(x, y, importance = first, ...):\n",
      "\"The response has five or fewer unique values.  Are you sure you want to do regression?\"Warning message in randomForest.default(x, y, importance = first, ...):\n",
      "\"The response has five or fewer unique values.  Are you sure you want to do regression?\"Warning message in randomForest.default(x, y, importance = first, ...):\n",
      "\"The response has five or fewer unique values.  Are you sure you want to do regression?\"Warning message in randomForest.default(x, y, importance = first, ...):\n",
      "\"The response has five or fewer unique values.  Are you sure you want to do regression?\"Warning message in randomForest.default(x, y, importance = first, ...):\n",
      "\"The response has five or fewer unique values.  Are you sure you want to do regression?\"Warning message in randomForest.default(x, y, importance = first, ...):\n",
      "\"The response has five or fewer unique values.  Are you sure you want to do regression?\"Warning message in randomForest.default(x, y, importance = first, ...):\n",
      "\"The response has five or fewer unique values.  Are you sure you want to do regression?\"Warning message in randomForest.default(x, y, importance = first, ...):\n",
      "\"The response has five or fewer unique values.  Are you sure you want to do regression?\"Warning message in randomForest.default(x, y, importance = first, ...):\n",
      "\"The response has five or fewer unique values.  Are you sure you want to do regression?\"Warning message in randomForest.default(x, y, importance = first, ...):\n",
      "\"The response has five or fewer unique values.  Are you sure you want to do regression?\"Warning message in randomForest.default(x, y, importance = first, ...):\n",
      "\"The response has five or fewer unique values.  Are you sure you want to do regression?\"Warning message in randomForest.default(x, y, importance = first, ...):\n",
      "\"The response has five or fewer unique values.  Are you sure you want to do regression?\"Warning message in randomForest.default(x, y, importance = first, ...):\n",
      "\"The response has five or fewer unique values.  Are you sure you want to do regression?\"Warning message in randomForest.default(x, y, importance = first, ...):\n",
      "\"The response has five or fewer unique values.  Are you sure you want to do regression?\"Warning message in randomForest.default(x, y, importance = first, ...):\n",
      "\"The response has five or fewer unique values.  Are you sure you want to do regression?\"Warning message in randomForest.default(x, y, importance = first, ...):\n",
      "\"The response has five or fewer unique values.  Are you sure you want to do regression?\"Warning message in randomForest.default(x, y, importance = first, ...):\n",
      "\"The response has five or fewer unique values.  Are you sure you want to do regression?\"Warning message in randomForest.default(x, y, importance = first, ...):\n",
      "\"The response has five or fewer unique values.  Are you sure you want to do regression?\"Warning message in randomForest.default(x, y, importance = first, ...):\n",
      "\"The response has five or fewer unique values.  Are you sure you want to do regression?\"Warning message in randomForest.default(x, y, importance = first, ...):\n",
      "\"The response has five or fewer unique values.  Are you sure you want to do regression?\"Warning message in randomForest.default(x, y, importance = first, ...):\n",
      "\"The response has five or fewer unique values.  Are you sure you want to do regression?\"Warning message in randomForest.default(x, y, importance = first, ...):\n",
      "\"The response has five or fewer unique values.  Are you sure you want to do regression?\"Warning message in randomForest.default(x, y, importance = first, ...):\n",
      "\"The response has five or fewer unique values.  Are you sure you want to do regression?\"Warning message in randomForest.default(x, y, importance = first, ...):\n",
      "\"The response has five or fewer unique values.  Are you sure you want to do regression?\"Warning message in randomForest.default(x, y, importance = first, ...):\n",
      "\"The response has five or fewer unique values.  Are you sure you want to do regression?\"Warning message in randomForest.default(x, y, importance = first, ...):\n",
      "\"The response has five or fewer unique values.  Are you sure you want to do regression?\"Warning message in randomForest.default(x, y, importance = first, ...):\n",
      "\"The response has five or fewer unique values.  Are you sure you want to do regression?\"Warning message in randomForest.default(x, y, importance = first, ...):\n",
      "\"The response has five or fewer unique values.  Are you sure you want to do regression?\"Warning message in randomForest.default(x, y, importance = first, ...):\n",
      "\"The response has five or fewer unique values.  Are you sure you want to do regression?\"Warning message in randomForest.default(x, y, importance = first, ...):\n",
      "\"The response has five or fewer unique values.  Are you sure you want to do regression?\"Warning message in randomForest.default(x, y, importance = first, ...):\n",
      "\"The response has five or fewer unique values.  Are you sure you want to do regression?\"Warning message in randomForest.default(x, y, importance = first, ...):\n",
      "\"The response has five or fewer unique values.  Are you sure you want to do regression?\"Warning message in randomForest.default(x, y, importance = first, ...):\n",
      "\"The response has five or fewer unique values.  Are you sure you want to do regression?\"Warning message in randomForest.default(x, y, importance = first, ...):\n",
      "\"The response has five or fewer unique values.  Are you sure you want to do regression?\"Warning message in randomForest.default(x, y, importance = first, ...):\n",
      "\"The response has five or fewer unique values.  Are you sure you want to do regression?\"Warning message in randomForest.default(x, y, importance = first, ...):\n",
      "\"The response has five or fewer unique values.  Are you sure you want to do regression?\"Warning message in randomForest.default(x, y, importance = first, ...):\n",
      "\"The response has five or fewer unique values.  Are you sure you want to do regression?\"Warning message in randomForest.default(x, y, importance = first, ...):\n",
      "\"The response has five or fewer unique values.  Are you sure you want to do regression?\"Warning message in randomForest.default(x, y, importance = first, ...):\n",
      "\"The response has five or fewer unique values.  Are you sure you want to do regression?\"Warning message in randomForest.default(x, y, importance = first, ...):\n",
      "\"The response has five or fewer unique values.  Are you sure you want to do regression?\"Warning message in randomForest.default(x, y, importance = first, ...):\n",
      "\"The response has five or fewer unique values.  Are you sure you want to do regression?\"Warning message in randomForest.default(x, y, importance = first, ...):\n",
      "\"The response has five or fewer unique values.  Are you sure you want to do regression?\"Warning message in randomForest.default(x, y, importance = first, ...):\n",
      "\"The response has five or fewer unique values.  Are you sure you want to do regression?\"Warning message in randomForest.default(x, y, importance = first, ...):\n",
      "\"The response has five or fewer unique values.  Are you sure you want to do regression?\"Warning message in randomForest.default(x, y, importance = first, ...):\n",
      "\"The response has five or fewer unique values.  Are you sure you want to do regression?\"Warning message in randomForest.default(x, y, importance = first, ...):\n",
      "\"The response has five or fewer unique values.  Are you sure you want to do regression?\"Warning message in randomForest.default(x, y, importance = first, ...):\n",
      "\"The response has five or fewer unique values.  Are you sure you want to do regression?\"Warning message in randomForest.default(x, y, importance = first, ...):\n",
      "\"The response has five or fewer unique values.  Are you sure you want to do regression?\"Warning message in randomForest.default(x, y, importance = first, ...):\n",
      "\"The response has five or fewer unique values.  Are you sure you want to do regression?\"Warning message in randomForest.default(x, y, importance = first, ...):\n",
      "\"The response has five or fewer unique values.  Are you sure you want to do regression?\"Warning message in randomForest.default(x, y, importance = first, ...):\n",
      "\"The response has five or fewer unique values.  Are you sure you want to do regression?\"Warning message in randomForest.default(x, y, importance = first, ...):\n",
      "\"The response has five or fewer unique values.  Are you sure you want to do regression?\"Warning message in randomForest.default(x, y, importance = first, ...):\n",
      "\"The response has five or fewer unique values.  Are you sure you want to do regression?\"Warning message in randomForest.default(x, y, importance = first, ...):\n",
      "\"The response has five or fewer unique values.  Are you sure you want to do regression?\"Warning message in randomForest.default(x, y, importance = first, ...):\n",
      "\"The response has five or fewer unique values.  Are you sure you want to do regression?\"Warning message in randomForest.default(x, y, importance = first, ...):\n",
      "\"The response has five or fewer unique values.  Are you sure you want to do regression?\"Warning message in randomForest.default(x, y, importance = first, ...):\n",
      "\"The response has five or fewer unique values.  Are you sure you want to do regression?\"Warning message in randomForest.default(x, y, importance = first, ...):\n",
      "\"The response has five or fewer unique values.  Are you sure you want to do regression?\"Warning message in randomForest.default(x, y, importance = first, ...):\n",
      "\"The response has five or fewer unique values.  Are you sure you want to do regression?\"Warning message in randomForest.default(x, y, importance = first, ...):\n",
      "\"The response has five or fewer unique values.  Are you sure you want to do regression?\"Warning message in randomForest.default(x, y, importance = first, ...):\n",
      "\"The response has five or fewer unique values.  Are you sure you want to do regression?\"Warning message in randomForest.default(x, y, importance = first, ...):\n",
      "\"The response has five or fewer unique values.  Are you sure you want to do regression?\"Warning message in randomForest.default(x, y, importance = first, ...):\n",
      "\"The response has five or fewer unique values.  Are you sure you want to do regression?\"Warning message in randomForest.default(x, y, importance = first, ...):\n",
      "\"The response has five or fewer unique values.  Are you sure you want to do regression?\"Warning message in randomForest.default(x, y, importance = first, ...):\n",
      "\"The response has five or fewer unique values.  Are you sure you want to do regression?\"Warning message in randomForest.default(x, y, importance = first, ...):\n",
      "\"The response has five or fewer unique values.  Are you sure you want to do regression?\"Warning message in randomForest.default(x, y, importance = first, ...):\n",
      "\"The response has five or fewer unique values.  Are you sure you want to do regression?\"Warning message in randomForest.default(x, y, importance = first, ...):\n",
      "\"The response has five or fewer unique values.  Are you sure you want to do regression?\"Warning message in randomForest.default(x, y, importance = first, ...):\n",
      "\"The response has five or fewer unique values.  Are you sure you want to do regression?\"Warning message in randomForest.default(x, y, importance = first, ...):\n",
      "\"The response has five or fewer unique values.  Are you sure you want to do regression?\"Warning message in randomForest.default(x, y, importance = first, ...):\n",
      "\"The response has five or fewer unique values.  Are you sure you want to do regression?\"Warning message in randomForest.default(x, y, importance = first, ...):\n",
      "\"The response has five or fewer unique values.  Are you sure you want to do regression?\"Warning message in randomForest.default(x, y, importance = first, ...):\n",
      "\"The response has five or fewer unique values.  Are you sure you want to do regression?\"Warning message in randomForest.default(x, y, importance = first, ...):\n",
      "\"The response has five or fewer unique values.  Are you sure you want to do regression?\"Warning message in randomForest.default(x, y, importance = first, ...):\n",
      "\"The response has five or fewer unique values.  Are you sure you want to do regression?\"Warning message in randomForest.default(x, y, importance = first, ...):\n",
      "\"The response has five or fewer unique values.  Are you sure you want to do regression?\"Warning message in randomForest.default(x, y, importance = first, ...):\n",
      "\"The response has five or fewer unique values.  Are you sure you want to do regression?\"Warning message in randomForest.default(x, y, importance = first, ...):\n",
      "\"The response has five or fewer unique values.  Are you sure you want to do regression?\"Warning message in randomForest.default(x, y, importance = first, ...):\n",
      "\"The response has five or fewer unique values.  Are you sure you want to do regression?\"Warning message in randomForest.default(x, y, importance = first, ...):\n",
      "\"The response has five or fewer unique values.  Are you sure you want to do regression?\"Warning message in randomForest.default(x, y, importance = first, ...):\n",
      "\"The response has five or fewer unique values.  Are you sure you want to do regression?\"Warning message in randomForest.default(x, y, importance = first, ...):\n",
      "\"The response has five or fewer unique values.  Are you sure you want to do regression?\"Warning message in randomForest.default(x, y, importance = first, ...):\n",
      "\"The response has five or fewer unique values.  Are you sure you want to do regression?\"Warning message in randomForest.default(x, y, importance = first, ...):\n",
      "\"The response has five or fewer unique values.  Are you sure you want to do regression?\"Warning message in randomForest.default(x, y, importance = first, ...):\n",
      "\"The response has five or fewer unique values.  Are you sure you want to do regression?\"Warning message in randomForest.default(x, y, importance = first, ...):\n",
      "\"The response has five or fewer unique values.  Are you sure you want to do regression?\"Warning message in randomForest.default(x, y, importance = first, ...):\n",
      "\"The response has five or fewer unique values.  Are you sure you want to do regression?\"Warning message in randomForest.default(x, y, importance = first, ...):\n",
      "\"The response has five or fewer unique values.  Are you sure you want to do regression?\"Warning message in randomForest.default(x, y, importance = first, ...):\n",
      "\"The response has five or fewer unique values.  Are you sure you want to do regression?\"Warning message in randomForest.default(x, y, importance = first, ...):\n",
      "\"The response has five or fewer unique values.  Are you sure you want to do regression?\"Warning message in randomForest.default(x, y, importance = first, ...):\n",
      "\"The response has five or fewer unique values.  Are you sure you want to do regression?\"Warning message in randomForest.default(x, y, importance = first, ...):\n",
      "\"The response has five or fewer unique values.  Are you sure you want to do regression?\"Warning message in randomForest.default(x, y, importance = first, ...):\n",
      "\"The response has five or fewer unique values.  Are you sure you want to do regression?\"Warning message in randomForest.default(x, y, importance = first, ...):\n",
      "\"The response has five or fewer unique values.  Are you sure you want to do regression?\"Warning message in randomForest.default(x, y, importance = first, ...):\n",
      "\"The response has five or fewer unique values.  Are you sure you want to do regression?\"Warning message in randomForest.default(x, y, importance = first, ...):\n",
      "\"The response has five or fewer unique values.  Are you sure you want to do regression?\"Warning message in randomForest.default(x, y, importance = first, ...):\n",
      "\"The response has five or fewer unique values.  Are you sure you want to do regression?\"Warning message in randomForest.default(x, y, importance = first, ...):\n",
      "\"The response has five or fewer unique values.  Are you sure you want to do regression?\"Warning message in randomForest.default(x, y, importance = first, ...):\n",
      "\"The response has five or fewer unique values.  Are you sure you want to do regression?\"Warning message in randomForest.default(x, y, importance = first, ...):\n",
      "\"The response has five or fewer unique values.  Are you sure you want to do regression?\"Warning message in randomForest.default(x, y, importance = first, ...):\n",
      "\"The response has five or fewer unique values.  Are you sure you want to do regression?\"Warning message in randomForest.default(x, y, importance = first, ...):\n",
      "\"The response has five or fewer unique values.  Are you sure you want to do regression?\"Warning message in randomForest.default(x, y, importance = first, ...):\n",
      "\"The response has five or fewer unique values.  Are you sure you want to do regression?\"Warning message in randomForest.default(x, y, importance = first, ...):\n",
      "\"The response has five or fewer unique values.  Are you sure you want to do regression?\"Warning message in randomForest.default(x, y, importance = first, ...):\n",
      "\"The response has five or fewer unique values.  Are you sure you want to do regression?\"Warning message in randomForest.default(x, y, importance = first, ...):\n",
      "\"The response has five or fewer unique values.  Are you sure you want to do regression?\"Warning message in randomForest.default(x, y, importance = first, ...):\n",
      "\"The response has five or fewer unique values.  Are you sure you want to do regression?\"Warning message in randomForest.default(x, y, importance = first, ...):\n",
      "\"The response has five or fewer unique values.  Are you sure you want to do regression?\"Warning message in randomForest.default(x, y, importance = first, ...):\n",
      "\"The response has five or fewer unique values.  Are you sure you want to do regression?\"Warning message in randomForest.default(x, y, importance = first, ...):\n",
      "\"The response has five or fewer unique values.  Are you sure you want to do regression?\"Warning message in randomForest.default(x, y, importance = first, ...):\n",
      "\"The response has five or fewer unique values.  Are you sure you want to do regression?\"Warning message in randomForest.default(x, y, importance = first, ...):\n",
      "\"The response has five or fewer unique values.  Are you sure you want to do regression?\"Warning message in randomForest.default(x, y, importance = first, ...):\n",
      "\"The response has five or fewer unique values.  Are you sure you want to do regression?\"Warning message in randomForest.default(x, y, importance = first, ...):\n",
      "\"The response has five or fewer unique values.  Are you sure you want to do regression?\"Warning message in randomForest.default(x, y, importance = first, ...):\n",
      "\"The response has five or fewer unique values.  Are you sure you want to do regression?\"Warning message in randomForest.default(x, y, importance = first, ...):\n",
      "\"The response has five or fewer unique values.  Are you sure you want to do regression?\"Warning message in randomForest.default(x, y, importance = first, ...):\n",
      "\"The response has five or fewer unique values.  Are you sure you want to do regression?\"Warning message in randomForest.default(x, y, importance = first, ...):\n",
      "\"The response has five or fewer unique values.  Are you sure you want to do regression?\"Warning message in randomForest.default(x, y, importance = first, ...):\n",
      "\"The response has five or fewer unique values.  Are you sure you want to do regression?\"Warning message in randomForest.default(x, y, importance = first, ...):\n",
      "\"The response has five or fewer unique values.  Are you sure you want to do regression?\"Warning message in randomForest.default(x, y, importance = first, ...):\n",
      "\"The response has five or fewer unique values.  Are you sure you want to do regression?\"Warning message in randomForest.default(x, y, importance = first, ...):\n",
      "\"The response has five or fewer unique values.  Are you sure you want to do regression?\"Warning message in randomForest.default(x, y, importance = first, ...):\n",
      "\"The response has five or fewer unique values.  Are you sure you want to do regression?\"Warning message in randomForest.default(x, y, importance = first, ...):\n",
      "\"The response has five or fewer unique values.  Are you sure you want to do regression?\"Warning message in randomForest.default(x, y, importance = first, ...):\n",
      "\"The response has five or fewer unique values.  Are you sure you want to do regression?\"Warning message in randomForest.default(x, y, importance = first, ...):\n",
      "\"The response has five or fewer unique values.  Are you sure you want to do regression?\"Warning message in randomForest.default(x, y, importance = first, ...):\n",
      "\"The response has five or fewer unique values.  Are you sure you want to do regression?\"Warning message in randomForest.default(x, y, importance = first, ...):\n",
      "\"The response has five or fewer unique values.  Are you sure you want to do regression?\"Warning message in randomForest.default(x, y, importance = first, ...):\n",
      "\"The response has five or fewer unique values.  Are you sure you want to do regression?\"Warning message in randomForest.default(x, y, importance = first, ...):\n",
      "\"The response has five or fewer unique values.  Are you sure you want to do regression?\"Warning message in randomForest.default(x, y, importance = first, ...):\n",
      "\"The response has five or fewer unique values.  Are you sure you want to do regression?\"Warning message in randomForest.default(x, y, importance = first, ...):\n",
      "\"The response has five or fewer unique values.  Are you sure you want to do regression?\"Warning message in randomForest.default(x, y, importance = first, ...):\n",
      "\"The response has five or fewer unique values.  Are you sure you want to do regression?\"Warning message in randomForest.default(x, y, importance = first, ...):\n",
      "\"The response has five or fewer unique values.  Are you sure you want to do regression?\"Warning message in randomForest.default(x, y, importance = first, ...):\n",
      "\"The response has five or fewer unique values.  Are you sure you want to do regression?\"Warning message in randomForest.default(x, y, importance = first, ...):\n",
      "\"The response has five or fewer unique values.  Are you sure you want to do regression?\"Warning message in randomForest.default(x, y, importance = first, ...):\n",
      "\"The response has five or fewer unique values.  Are you sure you want to do regression?\"Warning message in randomForest.default(x, y, importance = first, ...):\n",
      "\"The response has five or fewer unique values.  Are you sure you want to do regression?\"Warning message in randomForest.default(x, y, importance = first, ...):\n",
      "\"The response has five or fewer unique values.  Are you sure you want to do regression?\"Warning message in randomForest.default(x, y, importance = first, ...):\n",
      "\"The response has five or fewer unique values.  Are you sure you want to do regression?\"Warning message in randomForest.default(x, y, importance = first, ...):\n",
      "\"The response has five or fewer unique values.  Are you sure you want to do regression?\"Warning message in randomForest.default(x, y, importance = first, ...):\n",
      "\"The response has five or fewer unique values.  Are you sure you want to do regression?\"Warning message in randomForest.default(x, y, importance = first, ...):\n",
      "\"The response has five or fewer unique values.  Are you sure you want to do regression?\"Warning message in randomForest.default(x, y, importance = first, ...):\n",
      "\"The response has five or fewer unique values.  Are you sure you want to do regression?\"Warning message in randomForest.default(x, y, importance = first, ...):\n",
      "\"The response has five or fewer unique values.  Are you sure you want to do regression?\"Warning message in randomForest.default(x, y, importance = first, ...):\n",
      "\"The response has five or fewer unique values.  Are you sure you want to do regression?\"Warning message in randomForest.default(x, y, importance = first, ...):\n",
      "\"The response has five or fewer unique values.  Are you sure you want to do regression?\"Warning message in randomForest.default(x, y, importance = first, ...):\n",
      "\"The response has five or fewer unique values.  Are you sure you want to do regression?\"Warning message in randomForest.default(x, y, importance = first, ...):\n",
      "\"The response has five or fewer unique values.  Are you sure you want to do regression?\"Warning message in randomForest.default(x, y, importance = first, ...):\n",
      "\"The response has five or fewer unique values.  Are you sure you want to do regression?\"Warning message in randomForest.default(x, y, importance = first, ...):\n",
      "\"The response has five or fewer unique values.  Are you sure you want to do regression?\"Warning message in randomForest.default(x, y, importance = first, ...):\n",
      "\"The response has five or fewer unique values.  Are you sure you want to do regression?\"Warning message in randomForest.default(x, y, importance = first, ...):\n",
      "\"The response has five or fewer unique values.  Are you sure you want to do regression?\"Warning message in randomForest.default(x, y, importance = first, ...):\n",
      "\"The response has five or fewer unique values.  Are you sure you want to do regression?\"Warning message in randomForest.default(x, y, importance = first, ...):\n",
      "\"The response has five or fewer unique values.  Are you sure you want to do regression?\"Warning message in randomForest.default(x, y, importance = first, ...):\n",
      "\"The response has five or fewer unique values.  Are you sure you want to do regression?\"Warning message in randomForest.default(x, y, importance = first, ...):\n",
      "\"The response has five or fewer unique values.  Are you sure you want to do regression?\"Warning message in randomForest.default(x, y, importance = first, ...):\n",
      "\"The response has five or fewer unique values.  Are you sure you want to do regression?\"Warning message in randomForest.default(x, y, importance = first, ...):\n",
      "\"The response has five or fewer unique values.  Are you sure you want to do regression?\"Warning message in randomForest.default(x, y, importance = first, ...):\n",
      "\"The response has five or fewer unique values.  Are you sure you want to do regression?\"Warning message in randomForest.default(x, y, importance = first, ...):\n",
      "\"The response has five or fewer unique values.  Are you sure you want to do regression?\"Warning message in randomForest.default(x, y, importance = first, ...):\n",
      "\"The response has five or fewer unique values.  Are you sure you want to do regression?\"Warning message in randomForest.default(x, y, importance = first, ...):\n",
      "\"The response has five or fewer unique values.  Are you sure you want to do regression?\"Warning message in randomForest.default(x, y, importance = first, ...):\n",
      "\"The response has five or fewer unique values.  Are you sure you want to do regression?\"Warning message in randomForest.default(x, y, importance = first, ...):\n",
      "\"The response has five or fewer unique values.  Are you sure you want to do regression?\"Warning message in randomForest.default(x, y, importance = first, ...):\n",
      "\"The response has five or fewer unique values.  Are you sure you want to do regression?\"Warning message in randomForest.default(x, y, importance = first, ...):\n",
      "\"The response has five or fewer unique values.  Are you sure you want to do regression?\"Warning message in randomForest.default(x, y, importance = first, ...):\n",
      "\"The response has five or fewer unique values.  Are you sure you want to do regression?\"Warning message in randomForest.default(x, y, importance = first, ...):\n",
      "\"The response has five or fewer unique values.  Are you sure you want to do regression?\"Warning message in randomForest.default(x, y, importance = first, ...):\n",
      "\"The response has five or fewer unique values.  Are you sure you want to do regression?\"Warning message in randomForest.default(x, y, importance = first, ...):\n",
      "\"The response has five or fewer unique values.  Are you sure you want to do regression?\"Warning message in randomForest.default(x, y, importance = first, ...):\n",
      "\"The response has five or fewer unique values.  Are you sure you want to do regression?\"Warning message in randomForest.default(x, y, importance = first, ...):\n",
      "\"The response has five or fewer unique values.  Are you sure you want to do regression?\"Warning message in randomForest.default(x, y, importance = first, ...):\n",
      "\"The response has five or fewer unique values.  Are you sure you want to do regression?\"Warning message in randomForest.default(x, y, importance = first, ...):\n",
      "\"The response has five or fewer unique values.  Are you sure you want to do regression?\"Warning message in randomForest.default(x, y, importance = first, ...):\n",
      "\"The response has five or fewer unique values.  Are you sure you want to do regression?\"Warning message in randomForest.default(x, y, importance = first, ...):\n",
      "\"The response has five or fewer unique values.  Are you sure you want to do regression?\"Warning message in randomForest.default(x, y, importance = first, ...):\n",
      "\"The response has five or fewer unique values.  Are you sure you want to do regression?\"Warning message in randomForest.default(x, y, importance = first, ...):\n",
      "\"The response has five or fewer unique values.  Are you sure you want to do regression?\"Warning message in randomForest.default(x, y, importance = first, ...):\n",
      "\"The response has five or fewer unique values.  Are you sure you want to do regression?\"Warning message in randomForest.default(x, y, importance = first, ...):\n",
      "\"The response has five or fewer unique values.  Are you sure you want to do regression?\"Warning message in randomForest.default(x, y, importance = first, ...):\n",
      "\"The response has five or fewer unique values.  Are you sure you want to do regression?\"Warning message in randomForest.default(x, y, importance = first, ...):\n",
      "\"The response has five or fewer unique values.  Are you sure you want to do regression?\"Warning message in randomForest.default(x, y, importance = first, ...):\n",
      "\"The response has five or fewer unique values.  Are you sure you want to do regression?\"Warning message in randomForest.default(x, y, importance = first, ...):\n",
      "\"The response has five or fewer unique values.  Are you sure you want to do regression?\"Warning message in randomForest.default(x, y, importance = first, ...):\n",
      "\"The response has five or fewer unique values.  Are you sure you want to do regression?\"Warning message in randomForest.default(x, y, importance = first, ...):\n",
      "\"The response has five or fewer unique values.  Are you sure you want to do regression?\"Warning message in randomForest.default(x, y, importance = first, ...):\n",
      "\"The response has five or fewer unique values.  Are you sure you want to do regression?\"Warning message in randomForest.default(x, y, importance = first, ...):\n",
      "\"The response has five or fewer unique values.  Are you sure you want to do regression?\"Warning message in randomForest.default(x, y, importance = first, ...):\n",
      "\"The response has five or fewer unique values.  Are you sure you want to do regression?\"Warning message in randomForest.default(x, y, importance = first, ...):\n",
      "\"The response has five or fewer unique values.  Are you sure you want to do regression?\"Warning message in randomForest.default(x, y, importance = first, ...):\n",
      "\"The response has five or fewer unique values.  Are you sure you want to do regression?\"Warning message in randomForest.default(x, y, importance = first, ...):\n",
      "\"The response has five or fewer unique values.  Are you sure you want to do regression?\"Warning message in randomForest.default(x, y, importance = first, ...):\n",
      "\"The response has five or fewer unique values.  Are you sure you want to do regression?\"Warning message in randomForest.default(x, y, importance = first, ...):\n",
      "\"The response has five or fewer unique values.  Are you sure you want to do regression?\"Warning message in randomForest.default(x, y, importance = first, ...):\n",
      "\"The response has five or fewer unique values.  Are you sure you want to do regression?\"Warning message in randomForest.default(x, y, importance = first, ...):\n",
      "\"The response has five or fewer unique values.  Are you sure you want to do regression?\"Warning message in randomForest.default(x, y, importance = first, ...):\n",
      "\"The response has five or fewer unique values.  Are you sure you want to do regression?\"Warning message in randomForest.default(x, y, importance = first, ...):\n",
      "\"The response has five or fewer unique values.  Are you sure you want to do regression?\"Warning message in randomForest.default(x, y, importance = first, ...):\n",
      "\"The response has five or fewer unique values.  Are you sure you want to do regression?\"Warning message in randomForest.default(x, y, importance = first, ...):\n",
      "\"The response has five or fewer unique values.  Are you sure you want to do regression?\"Warning message in randomForest.default(x, y, importance = first, ...):\n",
      "\"The response has five or fewer unique values.  Are you sure you want to do regression?\"Warning message in randomForest.default(x, y, importance = first, ...):\n",
      "\"The response has five or fewer unique values.  Are you sure you want to do regression?\"Warning message in randomForest.default(x, y, importance = first, ...):\n",
      "\"The response has five or fewer unique values.  Are you sure you want to do regression?\"Warning message in randomForest.default(x, y, importance = first, ...):\n",
      "\"The response has five or fewer unique values.  Are you sure you want to do regression?\"Warning message in randomForest.default(x, y, importance = first, ...):\n",
      "\"The response has five or fewer unique values.  Are you sure you want to do regression?\"Warning message in randomForest.default(x, y, importance = first, ...):\n",
      "\"The response has five or fewer unique values.  Are you sure you want to do regression?\"Warning message in randomForest.default(x, y, importance = first, ...):\n",
      "\"The response has five or fewer unique values.  Are you sure you want to do regression?\"Warning message in randomForest.default(x, y, importance = first, ...):\n",
      "\"The response has five or fewer unique values.  Are you sure you want to do regression?\"Warning message in randomForest.default(x, y, importance = first, ...):\n",
      "\"The response has five or fewer unique values.  Are you sure you want to do regression?\"Warning message in randomForest.default(x, y, importance = first, ...):\n",
      "\"The response has five or fewer unique values.  Are you sure you want to do regression?\"Warning message in randomForest.default(x, y, importance = first, ...):\n",
      "\"The response has five or fewer unique values.  Are you sure you want to do regression?\"Warning message in randomForest.default(x, y, importance = first, ...):\n",
      "\"The response has five or fewer unique values.  Are you sure you want to do regression?\"Warning message in randomForest.default(x, y, importance = first, ...):\n",
      "\"The response has five or fewer unique values.  Are you sure you want to do regression?\"Warning message in randomForest.default(x, y, importance = first, ...):\n",
      "\"The response has five or fewer unique values.  Are you sure you want to do regression?\"Warning message in randomForest.default(x, y, importance = first, ...):\n",
      "\"The response has five or fewer unique values.  Are you sure you want to do regression?\"Warning message in randomForest.default(x, y, importance = first, ...):\n",
      "\"The response has five or fewer unique values.  Are you sure you want to do regression?\"Warning message in randomForest.default(x, y, importance = first, ...):\n",
      "\"The response has five or fewer unique values.  Are you sure you want to do regression?\"Warning message in randomForest.default(x, y, importance = first, ...):\n",
      "\"The response has five or fewer unique values.  Are you sure you want to do regression?\"Warning message in randomForest.default(x, y, importance = first, ...):\n",
      "\"The response has five or fewer unique values.  Are you sure you want to do regression?\"Warning message in randomForest.default(x, y, importance = first, ...):\n",
      "\"The response has five or fewer unique values.  Are you sure you want to do regression?\"Warning message in randomForest.default(x, y, importance = first, ...):\n",
      "\"The response has five or fewer unique values.  Are you sure you want to do regression?\"Warning message in randomForest.default(x, y, importance = first, ...):\n",
      "\"The response has five or fewer unique values.  Are you sure you want to do regression?\"Warning message in randomForest.default(x, y, importance = first, ...):\n",
      "\"The response has five or fewer unique values.  Are you sure you want to do regression?\"Warning message in randomForest.default(x, y, importance = first, ...):\n",
      "\"The response has five or fewer unique values.  Are you sure you want to do regression?\"Warning message in randomForest.default(x, y, importance = first, ...):\n",
      "\"The response has five or fewer unique values.  Are you sure you want to do regression?\"Warning message in randomForest.default(x, y, importance = first, ...):\n",
      "\"The response has five or fewer unique values.  Are you sure you want to do regression?\"Warning message in randomForest.default(x, y, importance = first, ...):\n",
      "\"The response has five or fewer unique values.  Are you sure you want to do regression?\"Warning message in randomForest.default(x, y, importance = first, ...):\n",
      "\"The response has five or fewer unique values.  Are you sure you want to do regression?\"Warning message in randomForest.default(x, y, importance = first, ...):\n",
      "\"The response has five or fewer unique values.  Are you sure you want to do regression?\"Warning message in randomForest.default(x, y, importance = first, ...):\n",
      "\"The response has five or fewer unique values.  Are you sure you want to do regression?\"Warning message in randomForest.default(x, y, importance = first, ...):\n",
      "\"The response has five or fewer unique values.  Are you sure you want to do regression?\"Warning message in randomForest.default(x, y, importance = first, ...):\n",
      "\"The response has five or fewer unique values.  Are you sure you want to do regression?\"Warning message in randomForest.default(x, y, importance = first, ...):\n",
      "\"The response has five or fewer unique values.  Are you sure you want to do regression?\"Warning message in randomForest.default(x, y, importance = first, ...):\n",
      "\"The response has five or fewer unique values.  Are you sure you want to do regression?\"Warning message in randomForest.default(x, y, importance = first, ...):\n",
      "\"The response has five or fewer unique values.  Are you sure you want to do regression?\"Warning message in randomForest.default(x, y, importance = first, ...):\n",
      "\"The response has five or fewer unique values.  Are you sure you want to do regression?\"Warning message in randomForest.default(x, y, importance = first, ...):\n",
      "\"The response has five or fewer unique values.  Are you sure you want to do regression?\"Warning message in randomForest.default(x, y, importance = first, ...):\n",
      "\"The response has five or fewer unique values.  Are you sure you want to do regression?\"Warning message in randomForest.default(x, y, importance = first, ...):\n",
      "\"The response has five or fewer unique values.  Are you sure you want to do regression?\"Warning message in randomForest.default(x, y, importance = first, ...):\n",
      "\"The response has five or fewer unique values.  Are you sure you want to do regression?\"Warning message in randomForest.default(x, y, importance = first, ...):\n",
      "\"The response has five or fewer unique values.  Are you sure you want to do regression?\"Warning message in randomForest.default(x, y, importance = first, ...):\n",
      "\"The response has five or fewer unique values.  Are you sure you want to do regression?\"Warning message in randomForest.default(x, y, importance = first, ...):\n",
      "\"The response has five or fewer unique values.  Are you sure you want to do regression?\"Warning message in randomForest.default(x, y, importance = first, ...):\n",
      "\"The response has five or fewer unique values.  Are you sure you want to do regression?\"Warning message in randomForest.default(x, y, importance = first, ...):\n",
      "\"The response has five or fewer unique values.  Are you sure you want to do regression?\"Warning message in randomForest.default(x, y, importance = first, ...):\n",
      "\"The response has five or fewer unique values.  Are you sure you want to do regression?\"Warning message in randomForest.default(x, y, importance = first, ...):\n",
      "\"The response has five or fewer unique values.  Are you sure you want to do regression?\"Warning message in randomForest.default(x, y, importance = first, ...):\n",
      "\"The response has five or fewer unique values.  Are you sure you want to do regression?\"Warning message in randomForest.default(x, y, importance = first, ...):\n",
      "\"The response has five or fewer unique values.  Are you sure you want to do regression?\"Warning message in randomForest.default(x, y, importance = first, ...):\n",
      "\"The response has five or fewer unique values.  Are you sure you want to do regression?\"Warning message in randomForest.default(x, y, importance = first, ...):\n",
      "\"The response has five or fewer unique values.  Are you sure you want to do regression?\"Warning message in randomForest.default(x, y, importance = first, ...):\n",
      "\"The response has five or fewer unique values.  Are you sure you want to do regression?\"Warning message in randomForest.default(x, y, importance = first, ...):\n",
      "\"The response has five or fewer unique values.  Are you sure you want to do regression?\"Warning message in randomForest.default(x, y, importance = first, ...):\n",
      "\"The response has five or fewer unique values.  Are you sure you want to do regression?\"Warning message in randomForest.default(x, y, importance = first, ...):\n",
      "\"The response has five or fewer unique values.  Are you sure you want to do regression?\"Warning message in randomForest.default(x, y, importance = first, ...):\n",
      "\"The response has five or fewer unique values.  Are you sure you want to do regression?\"Warning message in randomForest.default(x, y, importance = first, ...):\n",
      "\"The response has five or fewer unique values.  Are you sure you want to do regression?\"Warning message in randomForest.default(x, y, importance = first, ...):\n",
      "\"The response has five or fewer unique values.  Are you sure you want to do regression?\""
     ]
    },
    {
     "name": "stdout",
     "output_type": "stream",
     "text": [
      "[1] 3\n"
     ]
    }
   ],
   "source": [
    "# Let's use RFE to see if we can prune some variables/features and hopefully get a better result\n",
    "set.seed(123)\n",
    "control <- rfeControl(functions=rfFuncs, method=\"cv\", number=10)\n",
    "lending_club.train.rfe <- lending_club.train[sample(nrow(lending_club.train),2000),]\n",
    "rfe.train <- rfe(lending_club.train.rfe[,1:42], lending_club.train.rfe[,43], sizes=1:42, rfeControl=control)\n",
    "\n",
    "# how big is the optimal variable subset?\n",
    "print(rfe.train$bestSubset)"
   ]
  },
  {
   "cell_type": "markdown",
   "metadata": {},
   "source": [
    "#### Plot the number of variables vs. RMSE"
   ]
  },
  {
   "cell_type": "code",
   "execution_count": 73,
   "metadata": {
    "collapsed": false
   },
   "outputs": [
    {
     "data": {},
     "metadata": {},
     "output_type": "display_data"
    },
    {
     "data": {
      "image/png": "[encoded data removed]",
      "text/plain": [
       "plot without title"
      ]
     },
     "metadata": {},
     "output_type": "display_data"
    }
   ],
   "source": [
    "plot(rfe.train, type=c(\"g\", \"o\"), cex = 1.0, col = 1:43)"
   ]
  },
  {
   "cell_type": "markdown",
   "metadata": {},
   "source": [
    "#### What specific variables/features comprise the optimal subset?"
   ]
  },
  {
   "cell_type": "code",
   "execution_count": 74,
   "metadata": {
    "collapsed": false
   },
   "outputs": [
    {
     "data": {
      "text/html": [
       "<ol class=list-inline>\n",
       "\t<li>\"last_credit_pull_d\"</li>\n",
       "\t<li>\"last_fico_range_low\"</li>\n",
       "\t<li>\"last_fico_range_high\"</li>\n",
       "</ol>\n"
      ],
      "text/latex": [
       "\\begin{enumerate*}\n",
       "\\item \"last\\_credit\\_pull\\_d\"\n",
       "\\item \"last\\_fico\\_range\\_low\"\n",
       "\\item \"last\\_fico\\_range\\_high\"\n",
       "\\end{enumerate*}\n"
      ],
      "text/markdown": [
       "1. \"last_credit_pull_d\"\n",
       "2. \"last_fico_range_low\"\n",
       "3. \"last_fico_range_high\"\n",
       "\n",
       "\n"
      ],
      "text/plain": [
       "[1] \"last_credit_pull_d\"   \"last_fico_range_low\"  \"last_fico_range_high\""
      ]
     },
     "metadata": {},
     "output_type": "display_data"
    }
   ],
   "source": [
    "predictors(rfe.train)"
   ]
  },
  {
   "cell_type": "markdown",
   "metadata": {},
   "source": [
    "#### Train Random Forest model Post-RFE and generate predictions"
   ]
  },
  {
   "cell_type": "code",
   "execution_count": 75,
   "metadata": {
    "collapsed": false
   },
   "outputs": [],
   "source": [
    "# According to RFE the optimal subset of variables is \"last_credit_pull_d\", \"last_fico_range_high\", \"last_fico_range_low\" \n",
    "# Redo the Random Forest model with the optimal subset according to RFE\n",
    "set.seed(44)\n",
    "rf.fit.opt <- randomForest(as.factor(default)~last_credit_pull_d+last_fico_range_high+last_fico_range_low, \n",
    "                                                              data=lending_club.train, ntree=1000, type='classification')\n",
    "\n",
    "lending_club.test$default.pred.opt <- predict(rf.fit.opt,lending_club.test)"
   ]
  },
  {
   "cell_type": "markdown",
   "metadata": {},
   "source": [
    "#### Measure performance - Random Forest Post-RFE"
   ]
  },
  {
   "cell_type": "code",
   "execution_count": 76,
   "metadata": {
    "collapsed": false
   },
   "outputs": [
    {
     "data": {
      "text/plain": [
       "Confusion Matrix and Statistics\n",
       "\n",
       "          Reference\n",
       "Prediction     0     1\n",
       "         0 53876  2076\n",
       "         1  2924  6207\n",
       "                                          \n",
       "               Accuracy : 0.9232          \n",
       "                 95% CI : (0.9211, 0.9252)\n",
       "    No Information Rate : 0.8727          \n",
       "    P-Value [Acc > NIR] : < 2.2e-16       \n",
       "                                          \n",
       "                  Kappa : 0.6687          \n",
       " Mcnemar's Test P-Value : < 2.2e-16       \n",
       "                                          \n",
       "            Sensitivity : 0.9485          \n",
       "            Specificity : 0.7494          \n",
       "         Pos Pred Value : 0.9629          \n",
       "         Neg Pred Value : 0.6798          \n",
       "             Prevalence : 0.8727          \n",
       "         Detection Rate : 0.8278          \n",
       "   Detection Prevalence : 0.8597          \n",
       "      Balanced Accuracy : 0.8489          \n",
       "                                          \n",
       "       'Positive' Class : 0               \n",
       "                                          "
      ]
     },
     "metadata": {},
     "output_type": "display_data"
    },
    {
     "data": {
      "text/html": [
       "0.848943649218746"
      ],
      "text/latex": [
       "0.848943649218746"
      ],
      "text/markdown": [
       "0.848943649218746"
      ],
      "text/plain": [
       "Area under the curve: 0.8489"
      ]
     },
     "metadata": {},
     "output_type": "display_data"
    }
   ],
   "source": [
    "# Create Confusion Matrix\n",
    "confusionMatrix(lending_club.test$default.pred.opt,lending_club.test$default)\n",
    "\n",
    "# find area under a ROC curve\n",
    "auc(lending_club.test$default,as.numeric(lending_club.test$default.pred.opt))"
   ]
  },
  {
   "cell_type": "markdown",
   "metadata": {},
   "source": [
    "#### Train Random Forest model Post-RFE (increase nodesize) and generate predictions\n",
    "By increasing the nodesize, the number of nodes will decrease, thus simplifying the decision trees."
   ]
  },
  {
   "cell_type": "code",
   "execution_count": 77,
   "metadata": {
    "collapsed": true
   },
   "outputs": [],
   "source": [
    "# redo with larger nodesize - should make tree simpler\n",
    "rf.fit.opt2 <- randomForest(as.factor(default)~last_credit_pull_d+last_fico_range_high+last_fico_range_low, \n",
    "                           data=lending_club.train, ntree=1000, type='classification', nodesize=800)\n",
    "\n",
    "lending_club.test$default.pred.opt2 <- predict(rf.fit.opt2,lending_club.test)"
   ]
  },
  {
   "cell_type": "markdown",
   "metadata": {},
   "source": [
    "#### Measure performance - Random Forest Post-RFE (increased nodesize)"
   ]
  },
  {
   "cell_type": "code",
   "execution_count": 78,
   "metadata": {
    "collapsed": false
   },
   "outputs": [
    {
     "data": {
      "text/plain": [
       "Confusion Matrix and Statistics\n",
       "\n",
       "          Reference\n",
       "Prediction     0     1\n",
       "         0 53906  2117\n",
       "         1  2894  6166\n",
       "                                         \n",
       "               Accuracy : 0.923          \n",
       "                 95% CI : (0.9209, 0.925)\n",
       "    No Information Rate : 0.8727         \n",
       "    P-Value [Acc > NIR] : < 2.2e-16      \n",
       "                                         \n",
       "                  Kappa : 0.6668         \n",
       " Mcnemar's Test P-Value : < 2.2e-16      \n",
       "                                         \n",
       "            Sensitivity : 0.9490         \n",
       "            Specificity : 0.7444         \n",
       "         Pos Pred Value : 0.9622         \n",
       "         Neg Pred Value : 0.6806         \n",
       "             Prevalence : 0.8727         \n",
       "         Detection Rate : 0.8283         \n",
       "   Detection Prevalence : 0.8608         \n",
       "      Balanced Accuracy : 0.8467         \n",
       "                                         \n",
       "       'Positive' Class : 0              \n",
       "                                         "
      ]
     },
     "metadata": {},
     "output_type": "display_data"
    },
    {
     "data": {
      "text/html": [
       "0.8467327850357"
      ],
      "text/latex": [
       "0.8467327850357"
      ],
      "text/markdown": [
       "0.8467327850357"
      ],
      "text/plain": [
       "Area under the curve: 0.8467"
      ]
     },
     "metadata": {},
     "output_type": "display_data"
    }
   ],
   "source": [
    "# Create Confusion Matrix\n",
    "confusionMatrix(lending_club.test$default.pred.opt2,lending_club.test$default)\n",
    "\n",
    "# find Area Under a ROC Curve (AUC)\n",
    "auc(lending_club.test$default,as.numeric(lending_club.test$default.pred.opt2))"
   ]
  },
  {
   "cell_type": "markdown",
   "metadata": {},
   "source": [
    "### Bagged Decision Trees \n",
    "#### Create model and make predictions"
   ]
  },
  {
   "cell_type": "code",
   "execution_count": 80,
   "metadata": {
    "collapsed": false
   },
   "outputs": [
    {
     "name": "stdout",
     "output_type": "stream",
     "text": [
      "package 'adabag' successfully unpacked and MD5 sums checked\n",
      "\n",
      "The downloaded binary packages are in\n",
      "\tC:\\Users\\Ethan\\AppData\\Local\\Temp\\Rtmp6ZpgeQ\\downloaded_packages\n"
     ]
    },
    {
     "name": "stderr",
     "output_type": "stream",
     "text": [
      "Warning message:\n",
      "\"package 'adabag' was built under R version 3.3.2\"Loading required package: mlbench\n"
     ]
    }
   ],
   "source": [
    "# BAGGED DECISION TREES\n",
    "library(rpart)\n",
    "install.packages(\"adabag\", repos='http://cran.us.r-project.org',dependencies = TRUE)\n",
    "library(adabag)\n",
    "lending_club.train$default.factor <- as.factor(lending_club.train$default)\n",
    "lending_club.test$default.factor <- as.factor(lending_club.test$default)\n",
    "\n",
    "# mfinal indicates total number of trees grown \n",
    "# and minsplit is the minimum number of observations that must exist in a node in order for a split to be attempted\n",
    "bdt.bagging <- bagging(default.factor~last_credit_pull_d+last_fico_range_high+last_fico_range_low, \n",
    "                            data=lending_club.train, mfinal=1000, control=rpart.control(minsplit = 800))\n",
    "\n",
    "# make predictions\n",
    "bdt.bagging.pred <- predict.bagging(bdt.bagging, newdata=lending_club.test)"
   ]
  },
  {
   "cell_type": "markdown",
   "metadata": {},
   "source": [
    "#### Measure performance - Bagged Decision Trees"
   ]
  },
  {
   "cell_type": "code",
   "execution_count": 81,
   "metadata": {
    "collapsed": false
   },
   "outputs": [
    {
     "data": {
      "text/plain": [
       "Confusion Matrix and Statistics\n",
       "\n",
       "          Reference\n",
       "Prediction     0     1\n",
       "         0 53667  1882\n",
       "         1  3133  6401\n",
       "                                         \n",
       "               Accuracy : 0.9229         \n",
       "                 95% CI : (0.9209, 0.925)\n",
       "    No Information Rate : 0.8727         \n",
       "    P-Value [Acc > NIR] : < 2.2e-16      \n",
       "                                         \n",
       "                  Kappa : 0.6741         \n",
       " Mcnemar's Test P-Value : < 2.2e-16      \n",
       "                                         \n",
       "            Sensitivity : 0.9448         \n",
       "            Specificity : 0.7728         \n",
       "         Pos Pred Value : 0.9661         \n",
       "         Neg Pred Value : 0.6714         \n",
       "             Prevalence : 0.8727         \n",
       "         Detection Rate : 0.8246         \n",
       "   Detection Prevalence : 0.8535         \n",
       "      Balanced Accuracy : 0.8588         \n",
       "                                         \n",
       "       'Positive' Class : 0              \n",
       "                                         "
      ]
     },
     "metadata": {},
     "output_type": "display_data"
    },
    {
     "data": {
      "text/html": [
       "0.858814593312622"
      ],
      "text/latex": [
       "0.858814593312622"
      ],
      "text/markdown": [
       "0.858814593312622"
      ],
      "text/plain": [
       "Area under the curve: 0.8588"
      ]
     },
     "metadata": {},
     "output_type": "display_data"
    }
   ],
   "source": [
    "# Create Confusion Matrix\n",
    "confusionMatrix(bdt.bagging.pred$class,lending_club.test$default)\n",
    "\n",
    "# find Area Under a ROC Curve (AUC)\n",
    "auc(lending_club.test$default,as.numeric(bdt.bagging.pred$class))"
   ]
  },
  {
   "cell_type": "markdown",
   "metadata": {},
   "source": [
    "### Bagged Neural Networks"
   ]
  },
  {
   "cell_type": "code",
   "execution_count": 83,
   "metadata": {
    "collapsed": false
   },
   "outputs": [
    {
     "name": "stdout",
     "output_type": "stream",
     "text": [
      "# weights:  11\n",
      "initial  value 4735.968492 \n",
      "final  value 2614.000000 \n",
      "converged\n"
     ]
    }
   ],
   "source": [
    "library(nnet)\n",
    "\n",
    "lending_club.train.nn <- lending_club.train\n",
    "lending_club.train.nn$last_credit_pull_d.nn <- as.numeric(as.factor(lending_club.train.nn$last_credit_pull_d))\n",
    "lending_club.test.nn <- lending_club.test\n",
    "lending_club.test.nn$last_credit_pull_d.nn <- as.numeric(as.factor(lending_club.test.nn$last_credit_pull_d))\n",
    "\n",
    "lc.nn.fit <- nnet(default~last_credit_pull_d.nn+last_fico_range_high+last_fico_range_low,\n",
    "                        data=lending_club.train.nn, size = 2, linout=FALSE)\n"
   ]
  },
  {
   "cell_type": "code",
   "execution_count": null,
   "metadata": {
    "collapsed": true
   },
   "outputs": [],
   "source": []
  }
 ],
 "metadata": {
  "anaconda-cloud": {},
  "kernelspec": {
   "display_name": "R",
   "language": "R",
   "name": "ir"
  }
 },
 "nbformat": 4,
 "nbformat_minor": 1
}
